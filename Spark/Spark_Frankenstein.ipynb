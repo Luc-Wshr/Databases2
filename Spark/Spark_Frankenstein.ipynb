{
 "cells": [
  {
   "cell_type": "markdown",
   "id": "adc7c97b-435c-47c1-a4c9-af1f8f0eb91b",
   "metadata": {},
   "source": [
    "# Aufgabe\n",
    "Textdatei einlesen und diese dann soweit \"aufräumen\" dass die Wörter gezählt werden können\n"
   ]
  },
  {
   "cell_type": "code",
   "execution_count": 1,
   "id": "36c62454-a629-4921-a9a0-41732be5c6d1",
   "metadata": {},
   "outputs": [
    {
     "name": "stderr",
     "output_type": "stream",
     "text": [
      "Setting default log level to \"WARN\".\n",
      "To adjust logging level use sc.setLogLevel(newLevel). For SparkR, use setLogLevel(newLevel).\n"
     ]
    },
    {
     "name": "stdout",
     "output_type": "stream",
     "text": [
      "22/12/18 14:06:29 WARN NativeCodeLoader: Unable to load native-hadoop library for your platform... using builtin-java classes where applicable\n"
     ]
    },
    {
     "name": "stderr",
     "output_type": "stream",
     "text": [
      "[Stage 0:>                                                          (0 + 1) / 1]\r"
     ]
    },
    {
     "name": "stdout",
     "output_type": "stream",
     "text": [
      "+-------------------------------------------------------------------------+\n",
      "|value                                                                    |\n",
      "+-------------------------------------------------------------------------+\n",
      "|                                                                         |\n",
      "|Project Gutenberg's Frankenstein, by Mary Wollstonecraft (Godwin) Shelley|\n",
      "|                                                                         |\n",
      "|This eBook is for the use of anyone anywhere at no cost and with         |\n",
      "|almost no restrictions whatsoever.  You may copy it, give it away or     |\n",
      "|re-use it under the terms of the Project Gutenberg License included      |\n",
      "|with this eBook or online at www.gutenberg.net                           |\n",
      "|                                                                         |\n",
      "|                                                                         |\n",
      "|Title: Frankenstein                                                      |\n",
      "|       or The Modern Prometheus                                          |\n",
      "|                                                                         |\n",
      "|Author: Mary Wollstonecraft (Godwin) Shelley                             |\n",
      "|                                                                         |\n",
      "|Release Date: June 17, 2008 [EBook #84]                                  |\n",
      "|Last updated: January 13, 2018                                           |\n",
      "|                                                                         |\n",
      "|Language: English                                                        |\n",
      "|                                                                         |\n",
      "|Character set encoding: UTF-8                                            |\n",
      "+-------------------------------------------------------------------------+\n",
      "only showing top 20 rows\n",
      "\n",
      "root\n",
      " |-- value: string (nullable = true)\n",
      "\n"
     ]
    },
    {
     "name": "stderr",
     "output_type": "stream",
     "text": [
      "                                                                                \r"
     ]
    }
   ],
   "source": [
    "from pyspark.sql import SparkSession\n",
    "\n",
    "# Create SparkSession \n",
    "spark = SparkSession.builder \\\n",
    "      .master(\"local[1]\") \\\n",
    "      .appName(\"Franky\") \\\n",
    "      .getOrCreate() \n",
    "\n",
    "# Einlesen von Dateien in Spark, Datei Typ einfach Anpassen\n",
    "frank=spark.read.text(\"frankenstein.txt\")\n",
    "frank.show(truncate=False)\n",
    "# Schema anzeigen lassen\n",
    "frank.printSchema()"
   ]
  },
  {
   "cell_type": "code",
   "execution_count": 3,
   "id": "0611a4c0-32db-4d86-bc9d-4265023cb747",
   "metadata": {},
   "outputs": [
    {
     "name": "stdout",
     "output_type": "stream",
     "text": [
      "[('value', 'string')]\n"
     ]
    }
   ],
   "source": [
    "#Überprüfen was für dtypes drin sind\n",
    "print(frank.dtypes)"
   ]
  },
  {
   "cell_type": "markdown",
   "id": "b63c2cdc-fb41-471e-9192-325f8331d4bd",
   "metadata": {},
   "source": [
    "Der erste Split hier kann übersprungen werden wenn nacher noch ein ein Regex split kommt"
   ]
  },
  {
   "cell_type": "code",
   "execution_count": 52,
   "id": "e0b3112a-741c-48ee-a4cd-29cc5e9f8233",
   "metadata": {},
   "outputs": [
    {
     "name": "stdout",
     "output_type": "stream",
     "text": [
      "+----------------------------------------------------------------------------------+\n",
      "|                                                                             Zeile|\n",
      "+----------------------------------------------------------------------------------+\n",
      "|                                                                                []|\n",
      "|[Project, Gutenberg's, Frankenstein,, by, Mary, Wollstonecraft, (Godwin), Shelley]|\n",
      "|                                                                                []|\n",
      "|   [This, eBook, is, for, the, use, of, anyone, anywhere, at, no, cost, and, with]|\n",
      "|[almost, no, restrictions, whatsoever., , You, may, copy, it,, give, it, away, or]|\n",
      "|   [re-use, it, under, the, terms, of, the, Project, Gutenberg, License, included]|\n",
      "|                            [with, this, eBook, or, online, at, www.gutenberg.net]|\n",
      "|                                                                                []|\n",
      "|                                                                                []|\n",
      "|                                                            [Title:, Frankenstein]|\n",
      "+----------------------------------------------------------------------------------+\n",
      "only showing top 10 rows\n",
      "\n",
      "root\n",
      " |-- Zeile: array (nullable = true)\n",
      " |    |-- element: string (containsNull = false)\n",
      "\n"
     ]
    },
    {
     "data": {
      "text/plain": [
       "7834"
      ]
     },
     "execution_count": 52,
     "metadata": {},
     "output_type": "execute_result"
    }
   ],
   "source": [
    "import pyspark.sql.functions as F\n",
    "# select selektiert eine oder mehrere Spalten, hier eben nur die 1 Spalte \"value\"\n",
    "# alias gibt dem Ergebnis (der selektierten Spalte) einen Namen (sonst waere es eher unhandlich)\n",
    "# die Funktion split nimmt uebrigens eine REGEXP ... hier ist sie halt super-einfach> ein space\n",
    "lines = frank.select(F.split(frank.value, \" \").alias(\"Zeile\"))\n",
    "lines.show(10, truncate=100)\n",
    "# das Schema: das Split hat ein Array generiert\n",
    "lines.printSchema()\n"
   ]
  },
  {
   "cell_type": "code",
   "execution_count": 6,
   "id": "e0cb581a-91fa-49a5-94fb-5e3ab3c11fab",
   "metadata": {},
   "outputs": [
    {
     "name": "stdout",
     "output_type": "stream",
     "text": [
      "+----------------------------------------------------------------------------------+\n",
      "|Zeile                                                                             |\n",
      "+----------------------------------------------------------------------------------+\n",
      "|[]                                                                                |\n",
      "|[Project, Gutenberg's, Frankenstein,, by, Mary, Wollstonecraft, (Godwin), Shelley]|\n",
      "|[]                                                                                |\n",
      "|[This, eBook, is, for, the, use, of, anyone, anywhere, at, no, cost, and, with]   |\n",
      "|[almost, no, restrictions, whatsoever., , You, may, copy, it,, give, it, away, or]|\n",
      "|[re-use, it, under, the, terms, of, the, Project, Gutenberg, License, included]   |\n",
      "|[with, this, eBook, or, online, at, www.gutenberg.net]                            |\n",
      "|[]                                                                                |\n",
      "|[]                                                                                |\n",
      "|[Title:, Frankenstein]                                                            |\n",
      "+----------------------------------------------------------------------------------+\n",
      "only showing top 10 rows\n",
      "\n"
     ]
    }
   ],
   "source": [
    "lines.show(10, truncate=False)"
   ]
  },
  {
   "cell_type": "code",
   "execution_count": 53,
   "id": "99d5a5ff-154a-4f15-beeb-8b24eff53aa8",
   "metadata": {},
   "outputs": [
    {
     "name": "stdout",
     "output_type": "stream",
     "text": [
      "+--------------------------------------------------------------------------------------+\n",
      "|Zeile                                                                                 |\n",
      "+--------------------------------------------------------------------------------------+\n",
      "|[]                                                                                    |\n",
      "|[Project, Gutenberg, s, Frankenstein, , by, Mary, Wollstonecraft, , Godwin, , Shelley]|\n",
      "|[]                                                                                    |\n",
      "|[This, eBook, is, for, the, use, of, anyone, anywhere, at, no, cost, and, with]       |\n",
      "|[almost, no, restrictions, whatsoever, , , You, may, copy, it, , give, it, away, or]  |\n",
      "|[re, use, it, under, the, terms, of, the, Project, Gutenberg, License, included]      |\n",
      "|[with, this, eBook, or, online, at, www, gutenberg, net]                              |\n",
      "|[]                                                                                    |\n",
      "|[]                                                                                    |\n",
      "|[Title, , Frankenstein]                                                               |\n",
      "+--------------------------------------------------------------------------------------+\n",
      "only showing top 10 rows\n",
      "\n"
     ]
    },
    {
     "data": {
      "text/plain": [
       "7834"
      ]
     },
     "execution_count": 53,
     "metadata": {},
     "output_type": "execute_result"
    }
   ],
   "source": [
    "# Regex um Wörter zu finden welche mit einem Buchstaben anfangen, ob Groß oder Klein, \n",
    "lines = frank.select(F.split(frank.value, \"[^a-zA-Z]\").alias(\"Zeile\"))\n",
    "lines.show(10,truncate=False)\n"
   ]
  },
  {
   "cell_type": "code",
   "execution_count": 12,
   "id": "7f198581-81af-4231-b237-2e774fdbea36",
   "metadata": {},
   "outputs": [
    {
     "name": "stdout",
     "output_type": "stream",
     "text": [
      "+--------------+\n",
      "|          Word|\n",
      "+--------------+\n",
      "|              |\n",
      "|       Project|\n",
      "|     Gutenberg|\n",
      "|             s|\n",
      "|  Frankenstein|\n",
      "|              |\n",
      "|            by|\n",
      "|          Mary|\n",
      "|Wollstonecraft|\n",
      "|              |\n",
      "|        Godwin|\n",
      "|              |\n",
      "|       Shelley|\n",
      "|              |\n",
      "|          This|\n",
      "|         eBook|\n",
      "|            is|\n",
      "|           for|\n",
      "|           the|\n",
      "|           use|\n",
      "+--------------+\n",
      "only showing top 20 rows\n",
      "\n"
     ]
    }
   ],
   "source": [
    "#Expoden der Wörter\n",
    "\n",
    "# Explode erstellt aus jedem Objekt aus einem Array eine neue Zeile\n",
    "words = lines.select(F.explode(F.col(\"Zeile\")).alias(\"Word\"))\n",
    "words.show()"
   ]
  },
  {
   "cell_type": "code",
   "execution_count": 28,
   "id": "faf1e59e-07ba-42be-bf58-1ce0b220f0bb",
   "metadata": {},
   "outputs": [
    {
     "name": "stdout",
     "output_type": "stream",
     "text": [
      "+--------------+\n",
      "|   lower_words|\n",
      "+--------------+\n",
      "|              |\n",
      "|       project|\n",
      "|     gutenberg|\n",
      "|             s|\n",
      "|  frankenstein|\n",
      "|              |\n",
      "|            by|\n",
      "|          mary|\n",
      "|wollstonecraft|\n",
      "|              |\n",
      "|        godwin|\n",
      "|              |\n",
      "|       shelley|\n",
      "|              |\n",
      "|          this|\n",
      "|         ebook|\n",
      "|            is|\n",
      "|           for|\n",
      "|           the|\n",
      "|           use|\n",
      "+--------------+\n",
      "only showing top 20 rows\n",
      "\n"
     ]
    }
   ],
   "source": [
    "#jetzt wo der Explode gemacht wurde, die wörter aus designgründen alle klein schreiben\n",
    "words_lower=words.select(F.lower(F.col(\"Word\")).alias(\"lower_words\"))\n",
    "words_lower.show()"
   ]
  },
  {
   "cell_type": "code",
   "execution_count": 29,
   "id": "8331c894-74be-4cf0-bce8-bab6c8020b42",
   "metadata": {},
   "outputs": [
    {
     "name": "stdout",
     "output_type": "stream",
     "text": [
      "+--------------+\n",
      "|   lower_words|\n",
      "+--------------+\n",
      "|       project|\n",
      "|     gutenberg|\n",
      "|             s|\n",
      "|  frankenstein|\n",
      "|            by|\n",
      "|          mary|\n",
      "|wollstonecraft|\n",
      "|        godwin|\n",
      "|       shelley|\n",
      "|          this|\n",
      "|         ebook|\n",
      "|            is|\n",
      "|           for|\n",
      "|           the|\n",
      "|           use|\n",
      "|            of|\n",
      "|        anyone|\n",
      "|      anywhere|\n",
      "|            at|\n",
      "|            no|\n",
      "+--------------+\n",
      "only showing top 20 rows\n",
      "\n"
     ]
    }
   ],
   "source": [
    "#jetzt leere Zeilen entfernen\n",
    "words_clean= words_lower.filter((F.col(\"lower_words\")!=\"\").alias(\"wörter\"))\n",
    "words_clean.show()"
   ]
  },
  {
   "cell_type": "code",
   "execution_count": 34,
   "id": "abfee86e-d827-400b-bb9c-8ec00bc6a6ee",
   "metadata": {},
   "outputs": [
    {
     "name": "stdout",
     "output_type": "stream",
     "text": [
      "+--------------+\n",
      "|         Final|\n",
      "+--------------+\n",
      "|       project|\n",
      "|     gutenberg|\n",
      "|              |\n",
      "|  frankenstein|\n",
      "|            by|\n",
      "|          mary|\n",
      "|wollstonecraft|\n",
      "|        godwin|\n",
      "|       shelley|\n",
      "|          this|\n",
      "|         ebook|\n",
      "|            is|\n",
      "|           for|\n",
      "|           the|\n",
      "|           use|\n",
      "|            of|\n",
      "|        anyone|\n",
      "|      anywhere|\n",
      "|            at|\n",
      "|            no|\n",
      "+--------------+\n",
      "only showing top 20 rows\n",
      "\n"
     ]
    }
   ],
   "source": [
    "#Jetzt müssen noch einzelne Buchstaben wie das allein stehende s entfernt werden, a und i bleiben hier jedoch drinnen weil Englischer Text\n",
    "words_final=words_clean.select(F.regexp_extract(F.col(\"lower_words\"),\"[a-z]{2,}|a|i\",0).alias(\"Final\"))\n",
    "words_final.show()"
   ]
  },
  {
   "cell_type": "code",
   "execution_count": 36,
   "id": "a69f55a7-b9ac-4b91-a02f-e4aedcfd4d29",
   "metadata": {},
   "outputs": [
    {
     "name": "stdout",
     "output_type": "stream",
     "text": [
      "+--------------+\n",
      "|         Final|\n",
      "+--------------+\n",
      "|       project|\n",
      "|     gutenberg|\n",
      "|  frankenstein|\n",
      "|            by|\n",
      "|          mary|\n",
      "|wollstonecraft|\n",
      "|        godwin|\n",
      "|       shelley|\n",
      "|          this|\n",
      "|         ebook|\n",
      "|            is|\n",
      "|           for|\n",
      "|           the|\n",
      "|           use|\n",
      "|            of|\n",
      "|        anyone|\n",
      "|      anywhere|\n",
      "|            at|\n",
      "|            no|\n",
      "|          cost|\n",
      "+--------------+\n",
      "only showing top 20 rows\n",
      "\n"
     ]
    }
   ],
   "source": [
    "#jetzt nochmal die leeren zeilen entfernen\n",
    "words_final2= words_final.filter(F.col(\"Final\")!=\"\")\n",
    "words_final2.show()"
   ]
  },
  {
   "cell_type": "code",
   "execution_count": 39,
   "id": "c769ad85-de21-43f9-8119-f57db663a359",
   "metadata": {},
   "outputs": [
    {
     "name": "stdout",
     "output_type": "stream",
     "text": [
      "78236\n"
     ]
    }
   ],
   "source": [
    "#jetzt kann man die wörter zählen\n",
    "word_count=words_final2.count()\n",
    "print(word_count)"
   ]
  },
  {
   "cell_type": "code",
   "execution_count": 41,
   "id": "2b28f3ff-7680-4f60-b207-14745891a299",
   "metadata": {},
   "outputs": [
    {
     "name": "stderr",
     "output_type": "stream",
     "text": [
      "[Stage 34:>                                                         (0 + 1) / 1]\r"
     ]
    },
    {
     "name": "stdout",
     "output_type": "stream",
     "text": [
      "Die Datei hat 7256 einzelne Wörter\n"
     ]
    },
    {
     "name": "stderr",
     "output_type": "stream",
     "text": [
      "                                                                                \r"
     ]
    }
   ],
   "source": [
    "#jetzt wie viel eindeutige Wörter\n",
    "word_count_distinct=words_final2.distinct().count()\n",
    "print(f'Die Datei hat {word_count_distinct} einzelne Wörter')"
   ]
  },
  {
   "cell_type": "code",
   "execution_count": 51,
   "id": "78c1bf4c-1976-4ea6-a190-a1dd6de4ac76",
   "metadata": {},
   "outputs": [
    {
     "name": "stderr",
     "output_type": "stream",
     "text": [
      "[Stage 49:>                                                         (0 + 1) / 1]\r"
     ]
    },
    {
     "name": "stdout",
     "output_type": "stream",
     "text": [
      "7256\n"
     ]
    },
    {
     "name": "stderr",
     "output_type": "stream",
     "text": [
      "                                                                                \r"
     ]
    }
   ],
   "source": [
    "#jetzt noch alle befehel in einen Codeblock\n",
    "test= (\n",
    "    spark.read.text(\"frankenstein.txt\")\n",
    "    .select(F.split(F.col(\"value\"), \"[^a-zA-Z]\").alias(\"Zeile\"))\n",
    "    .select(F.explode(F.col(\"Zeile\")).alias(\"Word\"))\n",
    "    .select(F.lower(F.col(\"Word\")).alias(\"lower_words\"))\n",
    "    .filter((F.col(\"lower_words\")!=\"\").alias(\"wörter\"))\n",
    "    .select(F.regexp_extract(F.col(\"lower_words\"),\"[a-z]{2,}|a|i\",0).alias(\"Final\"))\n",
    "    .filter(F.col(\"Final\")!=\"\")\n",
    "    .distinct().count()\n",
    ")\n",
    "print(test)\n",
    "    \n",
    "    "
   ]
  },
  {
   "cell_type": "code",
   "execution_count": null,
   "id": "ba54ea2f-9df4-4ac0-a871-1d13d79b2903",
   "metadata": {},
   "outputs": [],
   "source": []
  }
 ],
 "metadata": {
  "kernelspec": {
   "display_name": "Python 3 (ipykernel)",
   "language": "python",
   "name": "python3"
  },
  "language_info": {
   "codemirror_mode": {
    "name": "ipython",
    "version": 3
   },
   "file_extension": ".py",
   "mimetype": "text/x-python",
   "name": "python",
   "nbconvert_exporter": "python",
   "pygments_lexer": "ipython3",
   "version": "3.10.8"
  }
 },
 "nbformat": 4,
 "nbformat_minor": 5
}

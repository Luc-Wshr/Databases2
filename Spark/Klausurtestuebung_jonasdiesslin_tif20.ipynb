{
 "cells": [
  {
   "cell_type": "markdown",
   "id": "c558fbee",
   "metadata": {},
   "source": [
    "# Dies ist der Klausurtest\n",
    "Aufgabe: erstelle ein Programm, das die bereitgestellten CSV-Datei einliest\n",
    "und lowercase am Bildschirm ausgibt, und Zeile f. Zeile mit der jeweiligen Anzahl von Worten\n",
    "in der jeweiligen Zeile am Anfang.\n",
    "Bsp: Die Zeile \"hEllo World\" soll folgendermassen am Bildschirm ausgegeben werden:\n",
    "\n",
    "2 hello world"
   ]
  },
  {
   "cell_type": "code",
   "execution_count": 7,
   "id": "b28855a7-4fca-4fca-a1bd-756f763a5f8b",
   "metadata": {},
   "outputs": [
    {
     "name": "stdout",
     "output_type": "stream",
     "text": [
      "+------------------------------+----+\n",
      "|_c0                           |_c1 |\n",
      "+------------------------------+----+\n",
      "|5 mal werden Wir noch wach    |    |\n",
      "|Heißa dann ist Weihnachtsnacht|null|\n",
      "+------------------------------+----+\n",
      "\n"
     ]
    }
   ],
   "source": [
    "from pyspark.sql import SparkSession\n",
    "\n",
    "# Create SparkSession \n",
    "spark = SparkSession.builder \\\n",
    "      .master(\"local[1]\") \\\n",
    "      .appName(\"Klausurtest\") \\\n",
    "      .getOrCreate() \n",
    "\n",
    "# Einlesen von Dateien in Spark, Datei Typ einfach Anpassen\n",
    "test=spark.read.csv(\"../Downloads/Klausurtest.csv\")\n",
    "test.show(truncate=False)"
   ]
  },
  {
   "cell_type": "code",
   "execution_count": 12,
   "id": "9c8005fd-8d5f-47d0-b01f-8ccf48490ffd",
   "metadata": {},
   "outputs": [
    {
     "name": "stdout",
     "output_type": "stream",
     "text": [
      "+------------------------------+-------+\n",
      "|Spalte1                       |Spalte2|\n",
      "+------------------------------+-------+\n",
      "|5 mal werden Wir noch wach    |       |\n",
      "|Heißa dann ist Weihnachtsnacht|null   |\n",
      "+------------------------------+-------+\n",
      "\n"
     ]
    }
   ],
   "source": [
    "# Spalten umbenennen für bessere Lesbarkeit\n",
    "import pyspark.sql.functions as F\n",
    "\n",
    "spalten = test.select(F.col(\"_c0\").alias(\"Spalte1\"),F.col(\"_c1\").alias(\"Spalte2\"))\n",
    "spalten.show(truncate=False)"
   ]
  },
  {
   "cell_type": "code",
   "execution_count": 14,
   "id": "66dccc27-c206-4ca2-b7cb-2d7c96951c84",
   "metadata": {},
   "outputs": [
    {
     "name": "stdout",
     "output_type": "stream",
     "text": [
      "+------------------------------+\n",
      "|lower_words                   |\n",
      "+------------------------------+\n",
      "|5 mal werden wir noch wach    |\n",
      "|heißa dann ist weihnachtsnacht|\n",
      "+------------------------------+\n",
      "\n"
     ]
    }
   ],
   "source": [
    "# Alles lower machen wie in der Anforderung gewünscht\n",
    "\n",
    "words_lower=spalten.select(F.lower(F.col(\"Spalte1\")).alias(\"lower_words\"))\n",
    "words_lower.show(truncate=False)"
   ]
  },
  {
   "cell_type": "code",
   "execution_count": 23,
   "id": "ea254cdb-17be-4206-b170-0b4d45f58c6c",
   "metadata": {},
   "outputs": [
    {
     "name": "stdout",
     "output_type": "stream",
     "text": [
      "+------------------------------+\n",
      "|lower_words                   |\n",
      "+------------------------------+\n",
      "|5 mal werden wir noch wach    |\n",
      "|heisa dann ist weihnachtsnacht|\n",
      "+------------------------------+\n",
      "\n"
     ]
    }
   ],
   "source": [
    "# Wir ersetzen das Sonderzeichen \"ß\" durch ein einfaches s, da es sonst zu problemen beim weiterverarbeiten kommen könnte\n",
    "scharfss = words_lower.withColumn('lower_words', F.translate('lower_words', 'ß', 'ss'))\n",
    "scharfss.show(truncate=False)"
   ]
  },
  {
   "cell_type": "code",
   "execution_count": 45,
   "id": "7490d908-7444-4a9d-bca8-6349605bff18",
   "metadata": {},
   "outputs": [
    {
     "name": "stdout",
     "output_type": "stream",
     "text": [
      "+-----------------------------------+\n",
      "|Zeile                              |\n",
      "+-----------------------------------+\n",
      "|[5, mal, werden, wir, noch, wach]  |\n",
      "|[heisa, dann, ist, weihnachtsnacht]|\n",
      "+-----------------------------------+\n",
      "\n"
     ]
    }
   ],
   "source": [
    "# Spilten nach Leerzeichen\n",
    "lines = scharfss.select(F.split(F.col(\"lower_words\"), \" \").alias(\"Zeile\"))\n",
    "lines.show(10,truncate=False)"
   ]
  },
  {
   "cell_type": "code",
   "execution_count": 46,
   "id": "aefa7a9c-ab95-4431-bdc8-99e65cfdc33a",
   "metadata": {},
   "outputs": [
    {
     "name": "stdout",
     "output_type": "stream",
     "text": [
      "+-----------------------------------+-----------+\n",
      "|Zeile                              |AnzahlWorte|\n",
      "+-----------------------------------+-----------+\n",
      "|[5, mal, werden, wir, noch, wach]  |6          |\n",
      "|[heisa, dann, ist, weihnachtsnacht]|4          |\n",
      "+-----------------------------------+-----------+\n",
      "\n",
      "root\n",
      " |-- Zeile: array (nullable = true)\n",
      " |    |-- element: string (containsNull = false)\n",
      " |-- AnzahlWorte: integer (nullable = false)\n",
      "\n"
     ]
    }
   ],
   "source": [
    "# Erstelle eine neue Spalte mit der Anzahl der Worten in der Zeile\n",
    "\n",
    "anzahl = lines.withColumn(\"AnzahlWorte\",F.size(F.col(\"Zeile\")))\n",
    "anzahl.show(truncate=False)\n",
    "anzahl.printSchema()"
   ]
  },
  {
   "cell_type": "code",
   "execution_count": 48,
   "id": "423194b2-e015-4dc6-86a9-b54a2f4fe1c1",
   "metadata": {},
   "outputs": [
    {
     "name": "stdout",
     "output_type": "stream",
     "text": [
      "+-----------+-----------------------------------+\n",
      "|AnzahlWorte|Zeile                              |\n",
      "+-----------+-----------------------------------+\n",
      "|6          |[5, mal, werden, wir, noch, wach]  |\n",
      "|4          |[heisa, dann, ist, weihnachtsnacht]|\n",
      "+-----------+-----------------------------------+\n",
      "\n"
     ]
    }
   ],
   "source": [
    "# Spalten in der gewünschten Reihenfolge anordnen\n",
    "\n",
    "Dataframe = anzahl.select(F.col(\"AnzahlWorte\"),F.col(\"Zeile\"))\n",
    "Dataframe.show(truncate=False)"
   ]
  },
  {
   "cell_type": "code",
   "execution_count": null,
   "id": "f59a67ce-b18d-4c9f-8088-3fa831f982b7",
   "metadata": {},
   "outputs": [],
   "source": []
  }
 ],
 "metadata": {
  "kernelspec": {
   "display_name": "Python 3 (ipykernel)",
   "language": "python",
   "name": "python3"
  },
  "language_info": {
   "codemirror_mode": {
    "name": "ipython",
    "version": 3
   },
   "file_extension": ".py",
   "mimetype": "text/x-python",
   "name": "python",
   "nbconvert_exporter": "python",
   "pygments_lexer": "ipython3",
   "version": "3.10.8"
  }
 },
 "nbformat": 4,
 "nbformat_minor": 5
}

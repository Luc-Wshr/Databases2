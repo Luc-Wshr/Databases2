{
 "cells": [
  {
   "cell_type": "code",
   "execution_count": 1,
   "id": "b361d591-9172-4a5e-bcf7-54e9d99a1f2d",
   "metadata": {},
   "outputs": [
    {
     "name": "stderr",
     "output_type": "stream",
     "text": [
      "Setting default log level to \"WARN\".\n",
      "To adjust logging level use sc.setLogLevel(newLevel). For SparkR, use setLogLevel(newLevel).\n"
     ]
    },
    {
     "name": "stdout",
     "output_type": "stream",
     "text": [
      "22/12/19 13:57:22 WARN NativeCodeLoader: Unable to load native-hadoop library for your platform... using builtin-java classes where applicable\n",
      "+-------------------------------------------------------------------------+\n",
      "|value                                                                    |\n",
      "+-------------------------------------------------------------------------+\n",
      "|                                                                         |\n",
      "|Project Gutenberg's Frankenstein, by Mary Wollstonecraft (Godwin) Shelley|\n",
      "|                                                                         |\n",
      "|This eBook is for the use of anyone anywhere at no cost and with         |\n",
      "|almost no restrictions whatsoever.  You may copy it, give it away or     |\n",
      "|re-use it under the terms of the Project Gutenberg License included      |\n",
      "|with this eBook or online at www.gutenberg.net                           |\n",
      "|                                                                         |\n",
      "|                                                                         |\n",
      "|Title: Frankenstein                                                      |\n",
      "|       or The Modern Prometheus                                          |\n",
      "|                                                                         |\n",
      "|Author: Mary Wollstonecraft (Godwin) Shelley                             |\n",
      "|                                                                         |\n",
      "|Release Date: June 17, 2008 [EBook #84]                                  |\n",
      "|Last updated: January 13, 2018                                           |\n",
      "|                                                                         |\n",
      "|Language: English                                                        |\n",
      "|                                                                         |\n",
      "|Character set encoding: UTF-8                                            |\n",
      "+-------------------------------------------------------------------------+\n",
      "only showing top 20 rows\n",
      "\n"
     ]
    }
   ],
   "source": [
    "from pyspark.sql import SparkSession\n",
    "\n",
    "# Create SparkSession \n",
    "spark = SparkSession.builder \\\n",
    "      .master(\"local[1]\") \\\n",
    "      .appName(\"Frank\") \\\n",
    "      .getOrCreate() \n",
    "\n",
    "# Einlesen von Dateien in Spark, Datei Typ einfach Anpassen\n",
    "frank=spark.read.text(\"frankenstein.txt\")\n",
    "frank.show(truncate=False)\n",
    "# Schema anzeigen lassen\n"
   ]
  },
  {
   "cell_type": "markdown",
   "id": "395fd64c-f9c7-4f64-9a7f-e6a43beaa960",
   "metadata": {},
   "source": [
    "Nur Wörter anzeigen lassen, welche Wörter sind "
   ]
  },
  {
   "cell_type": "code",
   "execution_count": 7,
   "id": "459b5f1d-4440-4060-85d5-e3c11e438911",
   "metadata": {},
   "outputs": [
    {
     "name": "stdout",
     "output_type": "stream",
     "text": [
      "+--------------------------------------------------------------------------------------+\n",
      "|Zeile                                                                                 |\n",
      "+--------------------------------------------------------------------------------------+\n",
      "|[]                                                                                    |\n",
      "|[Project, Gutenberg, s, Frankenstein, , by, Mary, Wollstonecraft, , Godwin, , Shelley]|\n",
      "|[]                                                                                    |\n",
      "|[This, eBook, is, for, the, use, of, anyone, anywhere, at, no, cost, and, with]       |\n",
      "|[almost, no, restrictions, whatsoever, , , You, may, copy, it, , give, it, away, or]  |\n",
      "|[re, use, it, under, the, terms, of, the, Project, Gutenberg, License, included]      |\n",
      "|[with, this, eBook, or, online, at, www, gutenberg, net]                              |\n",
      "|[]                                                                                    |\n",
      "|[]                                                                                    |\n",
      "|[Title, , Frankenstein]                                                               |\n",
      "|[, , , , , , , or, The, Modern, Prometheus]                                           |\n",
      "|[]                                                                                    |\n",
      "|[Author, , Mary, Wollstonecraft, , Godwin, , Shelley]                                 |\n",
      "|[]                                                                                    |\n",
      "|[Release, Date, , June, , , , , , , , , , , EBook, , , , , ]                          |\n",
      "|[Last, updated, , January, , , , , , , , , ]                                          |\n",
      "|[]                                                                                    |\n",
      "|[Language, , English]                                                                 |\n",
      "|[]                                                                                    |\n",
      "|[Character, set, encoding, , UTF, , ]                                                 |\n",
      "+--------------------------------------------------------------------------------------+\n",
      "only showing top 20 rows\n",
      "\n",
      "+--------------------+\n",
      "|               zeile|\n",
      "+--------------------+\n",
      "|                  []|\n",
      "|[Project, Gutenbe...|\n",
      "|                  []|\n",
      "|[This, eBook, is,...|\n",
      "|[almost, no, rest...|\n",
      "|[re, use, it, und...|\n",
      "|[with, this, eBoo...|\n",
      "|                  []|\n",
      "|                  []|\n",
      "|[Title, Frankenst...|\n",
      "|[or, The, Modern,...|\n",
      "|                  []|\n",
      "|[Author, Mary, Wo...|\n",
      "|                  []|\n",
      "|[Release, Date, J...|\n",
      "|[Last, updated, J...|\n",
      "|                  []|\n",
      "| [Language, English]|\n",
      "|                  []|\n",
      "|[Character, set, ...|\n",
      "+--------------------+\n",
      "only showing top 20 rows\n",
      "\n"
     ]
    }
   ],
   "source": [
    "\n",
    "import pyspark.sql.functions as F\n",
    "lines=frank.select(F.split(frank.value,\"[^a-zA-Z]\").alias(\"Zeile\"))\n",
    "lines.show(truncate=False)\n"
   ]
  },
  {
   "cell_type": "markdown",
   "id": "3ebb1165-6df5-460f-9c98-cb9a2e80100b",
   "metadata": {},
   "source": [
    "Jetz leere Zeilen entfernen"
   ]
  },
  {
   "cell_type": "code",
   "execution_count": 9,
   "id": "0aaa1955-d7df-4713-a9d5-0932ce79277f",
   "metadata": {
    "scrolled": true,
    "tags": []
   },
   "outputs": [
    {
     "name": "stdout",
     "output_type": "stream",
     "text": [
      "+--------------------------------------------------------------------------------+\n",
      "|zeile                                                                           |\n",
      "+--------------------------------------------------------------------------------+\n",
      "|[]                                                                              |\n",
      "|[Project, Gutenberg, s, Frankenstein, by, Mary, Wollstonecraft, Godwin, Shelley]|\n",
      "|[]                                                                              |\n",
      "|[This, eBook, is, for, the, use, of, anyone, anywhere, at, no, cost, and, with] |\n",
      "|[almost, no, restrictions, whatsoever, You, may, copy, it, give, it, away, or]  |\n",
      "|[re, use, it, under, the, terms, of, the, Project, Gutenberg, License, included]|\n",
      "|[with, this, eBook, or, online, at, www, gutenberg, net]                        |\n",
      "|[]                                                                              |\n",
      "|[]                                                                              |\n",
      "|[Title, Frankenstein]                                                           |\n",
      "|[or, The, Modern, Prometheus]                                                   |\n",
      "|[]                                                                              |\n",
      "|[Author, Mary, Wollstonecraft, Godwin, Shelley]                                 |\n",
      "|[]                                                                              |\n",
      "|[Release, Date, June, EBook]                                                    |\n",
      "|[Last, updated, January]                                                        |\n",
      "|[]                                                                              |\n",
      "|[Language, English]                                                             |\n",
      "|[]                                                                              |\n",
      "|[Character, set, encoding, UTF]                                                 |\n",
      "+--------------------------------------------------------------------------------+\n",
      "only showing top 20 rows\n",
      "\n"
     ]
    }
   ],
   "source": [
    "rmempty=lines.select(F.array_remove(F.col(\"Zeile\"),\"\").alias(\"zeile\"))\n",
    "rmempty.show(truncate=False)\n"
   ]
  },
  {
   "cell_type": "markdown",
   "id": "06697551-0298-4865-bea6-daf0f1412f6f",
   "metadata": {},
   "source": [
    "Wörter in den einzelenen Zeilen zählen und darstellen"
   ]
  },
  {
   "cell_type": "code",
   "execution_count": 28,
   "id": "f3af3645-cd16-41e3-bb2b-e6bcb40a7dc0",
   "metadata": {},
   "outputs": [
    {
     "name": "stdout",
     "output_type": "stream",
     "text": [
      "+--------------------+------+\n",
      "|               zeile|Anzahl|\n",
      "+--------------------+------+\n",
      "|                  []|     0|\n",
      "|[Project, Gutenbe...|     9|\n",
      "|                  []|     0|\n",
      "|[This, eBook, is,...|    14|\n",
      "|[almost, no, rest...|    12|\n",
      "|[re, use, it, und...|    12|\n",
      "|[with, this, eBoo...|     9|\n",
      "|                  []|     0|\n",
      "|                  []|     0|\n",
      "|[Title, Frankenst...|     2|\n",
      "|[or, The, Modern,...|     4|\n",
      "|                  []|     0|\n",
      "|[Author, Mary, Wo...|     5|\n",
      "|                  []|     0|\n",
      "|[Release, Date, J...|     4|\n",
      "|[Last, updated, J...|     3|\n",
      "|                  []|     0|\n",
      "| [Language, English]|     2|\n",
      "|                  []|     0|\n",
      "|[Character, set, ...|     4|\n",
      "+--------------------+------+\n",
      "only showing top 20 rows\n",
      "\n",
      "DataFrame[zeile: array<string>, Anzahl: int]\n"
     ]
    }
   ],
   "source": [
    "count_words=rmempty.withColumn(\"Anzahl\",F.size(F.col(\"zeile\")))\n",
    "count_words.show()\n",
    "count_words.count()\n"
   ]
  },
  {
   "cell_type": "markdown",
   "id": "92e679c3-86ac-4c74-8278-aaa66b15832c",
   "metadata": {},
   "source": [
    "Leere Arrays entfernen"
   ]
  },
  {
   "cell_type": "code",
   "execution_count": null,
   "id": "917f6c3d-b8f9-4458-8b0d-5f960c19cd1d",
   "metadata": {},
   "outputs": [
    {
     "name": "stdout",
     "output_type": "stream",
     "text": [
      "+--------------------+------+\n",
      "|               zeile|Anzahl|\n",
      "+--------------------+------+\n",
      "|[Project, Gutenbe...|     9|\n",
      "|[This, eBook, is,...|    14|\n",
      "|[almost, no, rest...|    12|\n",
      "|[re, use, it, und...|    12|\n",
      "|[with, this, eBoo...|     9|\n",
      "|[Title, Frankenst...|     2|\n",
      "|[or, The, Modern,...|     4|\n",
      "|[Author, Mary, Wo...|     5|\n",
      "|[Release, Date, J...|     4|\n",
      "|[Last, updated, J...|     3|\n",
      "| [Language, English]|     2|\n",
      "|[Character, set, ...|     4|\n",
      "|[START, OF, THIS,...|     7|\n",
      "|[Produced, by, Ju...|     8|\n",
      "|[and, David, Melt...|     8|\n",
      "|[Further, correct...|     6|\n",
      "|      [Frankenstein]|     1|\n",
      "|[or, the, Modern,...|     4|\n",
      "|                [by]|     1|\n",
      "|[Mary, Wollstonec...|     4|\n",
      "+--------------------+------+\n",
      "only showing top 20 rows\n",
      "\n"
     ]
    }
   ],
   "source": [
    "#leere Arrays entfernen \n",
    "\n",
    "clean_word=count_words.where(F.col(\"Anzahl\")!=0)\n",
    "clean_word.show()\n"
   ]
  },
  {
   "cell_type": "markdown",
   "id": "8aa56516-a0dc-4ec1-9854-2b2770eaaa27",
   "metadata": {},
   "source": [
    "Anzeigen welche Zeile die meisten Einträge hat"
   ]
  },
  {
   "cell_type": "code",
   "execution_count": 19,
   "id": "661d772b-fe25-4459-b28c-a4b59d76f1fd",
   "metadata": {},
   "outputs": [
    {
     "name": "stdout",
     "output_type": "stream",
     "text": [
      "+--------------------+------+\n",
      "|               zeile|Anzahl|\n",
      "+--------------------+------+\n",
      "|[seas, I, have, f...|    18|\n",
      "|[As, I, stood, at...|    18|\n",
      "|[and, as, far, as...|    18|\n",
      "|[but, if, it, be,...|    18|\n",
      "|[and, was, led, t...|    18|\n",
      "|[me, the, rest, I...|    18|\n",
      "|[will, pass, befo...|    17|\n",
      "|[absence, of, the...|    17|\n",
      "|[and, beloved, as...|    17|\n",
      "|[country, but, it...|    17|\n",
      "|[so, but, then, h...|    17|\n",
      "|[in, her, innocen...|    17|\n",
      "|[cousin, My, fath...|    17|\n",
      "|[is, all, that, I...|    17|\n",
      "|[out, of, the, ro...|    17|\n",
      "|[for, port, It, w...|    17|\n",
      "|[For, a, long, ti...|    17|\n",
      "|[can, do, and, I,...|    17|\n",
      "|[I, swear, to, yo...|    17|\n",
      "|[but, I, sailed, ...|    17|\n",
      "+--------------------+------+\n",
      "only showing top 20 rows\n",
      "\n"
     ]
    }
   ],
   "source": [
    "#Anzeigen welche Zeile die meisten Einträge hat\n",
    "sort=clean_word.orderBy(F.col(\"Anzahl\").desc())\n",
    "sort.show()\n"
   ]
  },
  {
   "cell_type": "code",
   "execution_count": 29,
   "id": "8214336a-a9bb-4116-91d1-89f4e975b1ab",
   "metadata": {},
   "outputs": [
    {
     "name": "stdout",
     "output_type": "stream",
     "text": [
      "+------+\n",
      "|  Word|\n",
      "+------+\n",
      "|    As|\n",
      "|     I|\n",
      "| stood|\n",
      "|    at|\n",
      "|   the|\n",
      "|  door|\n",
      "|    on|\n",
      "|     a|\n",
      "|sudden|\n",
      "|     I|\n",
      "|beheld|\n",
      "|     a|\n",
      "|stream|\n",
      "|    of|\n",
      "|  fire|\n",
      "| issue|\n",
      "|  from|\n",
      "|    an|\n",
      "|   and|\n",
      "|   was|\n",
      "+------+\n",
      "only showing top 20 rows\n",
      "\n"
     ]
    },
    {
     "data": {
      "text/plain": [
       "78444"
      ]
     },
     "execution_count": 29,
     "metadata": {},
     "output_type": "execute_result"
    }
   ],
   "source": [
    "#Exploden der Liste\n",
    "explode_words=sort.select(F.explode(F.col(\"zeile\")).alias(\"Word\"))\n",
    "explode_words.show()"
   ]
  },
  {
   "cell_type": "code",
   "execution_count": 23,
   "id": "4c58711e-7f08-43b9-92d6-f76bcd1e762c",
   "metadata": {},
   "outputs": [
    {
     "name": "stdout",
     "output_type": "stream",
     "text": [
      "+-----------+\n",
      "|lower_words|\n",
      "+-----------+\n",
      "|         as|\n",
      "|          i|\n",
      "|      stood|\n",
      "|         at|\n",
      "|        the|\n",
      "|       door|\n",
      "|         on|\n",
      "|          a|\n",
      "|     sudden|\n",
      "|          i|\n",
      "|     beheld|\n",
      "|          a|\n",
      "|     stream|\n",
      "|         of|\n",
      "|       fire|\n",
      "|      issue|\n",
      "|       from|\n",
      "|         an|\n",
      "|        and|\n",
      "|        was|\n",
      "+-----------+\n",
      "only showing top 20 rows\n",
      "\n"
     ]
    }
   ],
   "source": [
    "# Wörter lower_case machen\n",
    "lower_words=explode_words.select(F.lower(F.col(\"Word\")).alias(\"lower_words\"))\n",
    "lower_words.show()"
   ]
  },
  {
   "cell_type": "code",
   "execution_count": 27,
   "id": "43e3239a-0998-4f05-8434-5454b186b62a",
   "metadata": {},
   "outputs": [
    {
     "name": "stdout",
     "output_type": "stream",
     "text": [
      "78444\n"
     ]
    }
   ],
   "source": [
    "count_word=(\n",
    "    lower_words.select(F.col(\"lower_words\"))\n",
    "    .count()\n",
    ")\n",
    "print(count_word)"
   ]
  },
  {
   "cell_type": "code",
   "execution_count": 33,
   "id": "e5b8809f-242d-4443-a590-839cb708a4b4",
   "metadata": {},
   "outputs": [
    {
     "name": "stdout",
     "output_type": "stream",
     "text": [
      "+------+\n",
      "|  uniq|\n",
      "+------+\n",
      "|    as|\n",
      "|     i|\n",
      "| stood|\n",
      "|    at|\n",
      "|   the|\n",
      "|  door|\n",
      "|    on|\n",
      "|     a|\n",
      "|sudden|\n",
      "|     i|\n",
      "|beheld|\n",
      "|     a|\n",
      "|stream|\n",
      "|    of|\n",
      "|  fire|\n",
      "| issue|\n",
      "|  from|\n",
      "|    an|\n",
      "|   and|\n",
      "|   was|\n",
      "+------+\n",
      "only showing top 20 rows\n",
      "\n"
     ]
    }
   ],
   "source": [
    "#Entfernen von Wörtern die kleiner als 2 Zeichen sind ausßer a und i \n",
    "count_uniq=lower_words.select(F.regexp_extract(F.col(\"lower_words\"),\"[a-z]{2,}|a|i\",0).alias(\"uniq\"))\n",
    "count_uniq.show()"
   ]
  },
  {
   "cell_type": "code",
   "execution_count": 36,
   "id": "06e25319-390c-462f-b8d7-d06daac34c4b",
   "metadata": {},
   "outputs": [
    {
     "name": "stdout",
     "output_type": "stream",
     "text": [
      "78444\n",
      "DataFrame[uniq: string]\n",
      "+------+\n",
      "|  uniq|\n",
      "+------+\n",
      "|    as|\n",
      "|     i|\n",
      "| stood|\n",
      "|    at|\n",
      "|   the|\n",
      "|  door|\n",
      "|    on|\n",
      "|     a|\n",
      "|sudden|\n",
      "|     i|\n",
      "|beheld|\n",
      "|     a|\n",
      "|stream|\n",
      "|    of|\n",
      "|  fire|\n",
      "| issue|\n",
      "|  from|\n",
      "|    an|\n",
      "|   and|\n",
      "|   was|\n",
      "+------+\n",
      "only showing top 20 rows\n",
      "\n",
      "78236\n"
     ]
    }
   ],
   "source": [
    "#leere zeilen wieder entfernen\n",
    "counted_uniq=count_uniq.count()\n",
    "print(counted_uniq)\n",
    "print(count_uniq)\n",
    "rmempty=count_uniq.filter(F.col(\"uniq\")!=\"\")\n",
    "rmempty.show()\n",
    "\n",
    "counted_rm=rmempty.count()\n",
    "print(counted_rm)"
   ]
  },
  {
   "cell_type": "code",
   "execution_count": 58,
   "id": "9a7a3467-d83a-479e-9c6e-0d4eb4c30cb0",
   "metadata": {},
   "outputs": [
    {
     "name": "stdout",
     "output_type": "stream",
     "text": [
      "+-----+-----+\n",
      "| uniq|count|\n",
      "+-----+-----+\n",
      "|  the| 4371|\n",
      "|  and| 3046|\n",
      "|    i| 2850|\n",
      "|   of| 2760|\n",
      "|   to| 2174|\n",
      "|   my| 1776|\n",
      "|    a| 1449|\n",
      "|   in| 1186|\n",
      "| that| 1033|\n",
      "|  was| 1022|\n",
      "|   me|  868|\n",
      "| with|  714|\n",
      "|  but|  692|\n",
      "|  had|  686|\n",
      "|  you|  644|\n",
      "|   he|  611|\n",
      "|which|  565|\n",
      "|   it|  562|\n",
      "|   as|  539|\n",
      "|  his|  535|\n",
      "+-----+-----+\n",
      "only showing top 20 rows\n",
      "\n"
     ]
    }
   ],
   "source": [
    "#Gleiche Wörter gruppieren und diese zählen\n",
    "grouped=rmempty.groupBy(F.col(\"uniq\"))\n",
    "counted_group=grouped.count().sort(F.desc(\"count\"))\n",
    "counted_group.show()"
   ]
  },
  {
   "cell_type": "code",
   "execution_count": 67,
   "id": "219df792-c410-4393-b573-2566bd026953",
   "metadata": {},
   "outputs": [
    {
     "name": "stdout",
     "output_type": "stream",
     "text": [
      "+-------------+-----+\n",
      "|Anzahl_Wörter|count|\n",
      "+-------------+-----+\n",
      "|            7| 1201|\n",
      "|            6| 1113|\n",
      "|            8| 1070|\n",
      "|            9|  862|\n",
      "|            5|  844|\n",
      "|            4|  632|\n",
      "|           10|  594|\n",
      "|           11|  385|\n",
      "|           12|  186|\n",
      "|            3|  185|\n",
      "|           13|   84|\n",
      "|            2|   46|\n",
      "|           14|   34|\n",
      "|           15|   12|\n",
      "|           16|    5|\n",
      "|            1|    2|\n",
      "|           18|    1|\n",
      "+-------------+-----+\n",
      "\n"
     ]
    }
   ],
   "source": [
    "#Anzahl der Wörter welche eine x länge haben\n",
    "counted_uniq_words=counted_group.select(F.length(F.col(\"uniq\")).alias(\"Anzahl_Wörter\")).groupBy(\"Anzahl_Wörter\").count().orderBy(F.col(\"count\").desc()).show()"
   ]
  },
  {
   "cell_type": "code",
   "execution_count": 45,
   "id": "8b1802a9-f322-4a3e-8072-ca4fe5ef40d4",
   "metadata": {},
   "outputs": [],
   "source": [
    "counted_group.coalesce(1).write.option(\"header\",\"true\").csv(\"counted_words.csv\")"
   ]
  },
  {
   "cell_type": "code",
   "execution_count": 46,
   "id": "6f22f564-9108-4833-aef1-b2bfe9b5d776",
   "metadata": {},
   "outputs": [],
   "source": [
    "from pymongo import MongoClient\n",
    "import csv\n",
    "\n",
    "# specify the MongoDB server host and port\n",
    "host = \"localhost\"\n",
    "port = 27017\n",
    "\n",
    "# create a MongoClient instance\n",
    "client = MongoClient(host, port)\n",
    "\n",
    "# specify the database and collection names\n",
    "db_name = \"Wörter\"\n",
    "collection_name = \"zählen\"\n",
    "\n",
    "# get a reference to the database and collection\n",
    "db = client[db_name]\n",
    "collection = db[collection_name]\n",
    "\n",
    "# open the CSV file and read the data\n",
    "with open(\"counted_words.csv/counted_words.csv\") as csv_file:\n",
    "    reader = csv.DictReader(csv_file)\n",
    "    data = list(reader)\n",
    "\n",
    "# insert the data into the collection\n",
    "result = collection.insert_many(data)"
   ]
  },
  {
   "cell_type": "code",
   "execution_count": null,
   "id": "6a879ad3-5463-4bd2-a52d-c954381edd67",
   "metadata": {},
   "outputs": [],
   "source": []
  }
 ],
 "metadata": {
  "kernelspec": {
   "display_name": "Python 3 (ipykernel)",
   "language": "python",
   "name": "python3"
  },
  "language_info": {
   "codemirror_mode": {
    "name": "ipython",
    "version": 3
   },
   "file_extension": ".py",
   "mimetype": "text/x-python",
   "name": "python",
   "nbconvert_exporter": "python",
   "pygments_lexer": "ipython3",
   "version": "3.10.8"
  }
 },
 "nbformat": 4,
 "nbformat_minor": 5
}

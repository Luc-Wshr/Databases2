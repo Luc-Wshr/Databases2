{
 "cells": [
  {
   "cell_type": "markdown",
   "id": "c558fbee",
   "metadata": {},
   "source": [
    "# Dies ist der Klausurtest\n",
    "Aufgabe: erstelle ein Programm, das die bereitgestellten CSV-Datei einliest\n",
    "und lowercase am Bildschirm ausgibt, und Zeile f. Zeile mit der jeweiligen Anzahl von Worten\n",
    "in der jeweiligen Zeile am Anfang.\n",
    "Bsp: Die Zeile \"hEllo World\" soll folgendermassen am Bildschirm ausgegeben werden:\n",
    "\n",
    "2 hello world"
   ]
  },
  {
   "cell_type": "code",
   "execution_count": 3,
   "id": "dfffd44d-ba26-4616-85aa-56ba3642b730",
   "metadata": {},
   "outputs": [
    {
     "name": "stdout",
     "output_type": "stream",
     "text": [
      "+------------------------------+----+\n",
      "|_c0                           |_c1 |\n",
      "+------------------------------+----+\n",
      "|5 mal werden Wir noch wach    |    |\n",
      "|Heißa dann ist Weihnachtsnacht|null|\n",
      "+------------------------------+----+\n",
      "\n",
      "root\n",
      " |-- _c0: string (nullable = true)\n",
      " |-- _c1: string (nullable = true)\n",
      "\n"
     ]
    }
   ],
   "source": [
    "from pyspark.sql import SparkSession\n",
    "\n",
    "# Create SparkSession \n",
    "spark = SparkSession.builder \\\n",
    "      .master(\"local[1]\") \\\n",
    "      .appName(\"Franky\") \\\n",
    "      .getOrCreate() \n",
    "\n",
    "# Einlesen von Dateien in Spark, Datei Typ einfach Anpassen\n",
    "frank=spark.read.csv(\"/home/student/Downloads/Klausurtest.csv\")\n",
    "frank.show(100,truncate=False)\n",
    "# Schema anzeigen lassen\n",
    "frank.printSchema()"
   ]
  },
  {
   "cell_type": "code",
   "execution_count": 8,
   "id": "5d760eb8-6d67-424f-bdaf-c11b668a2ba8",
   "metadata": {},
   "outputs": [
    {
     "name": "stdout",
     "output_type": "stream",
     "text": [
      "+------------------------------+----+\n",
      "|_c0                           |_c1 |\n",
      "+------------------------------+----+\n",
      "|5 mal werden Wir noch wach    |    |\n",
      "|Heißa dann ist Weihnachtsnacht|null|\n",
      "+------------------------------+----+\n",
      "\n"
     ]
    }
   ],
   "source": [
    "frank.show(truncate=False)"
   ]
  },
  {
   "cell_type": "code",
   "execution_count": 9,
   "id": "961f99c9-44f7-496e-a39b-37b0726d8272",
   "metadata": {},
   "outputs": [],
   "source": [
    "import pyspark.sql.functions as F"
   ]
  },
  {
   "cell_type": "code",
   "execution_count": 10,
   "id": "7cbabc35-02d4-45fe-8966-88f12d41e82f",
   "metadata": {},
   "outputs": [],
   "source": [
    "count=frank.select(F.col(\"_c0\").alias(\"Zeile\"))"
   ]
  },
  {
   "cell_type": "code",
   "execution_count": 11,
   "id": "78b1ff29-96b8-46a1-8c5d-3bd41802dd63",
   "metadata": {},
   "outputs": [
    {
     "name": "stdout",
     "output_type": "stream",
     "text": [
      "+--------------------+\n",
      "|               Zeile|\n",
      "+--------------------+\n",
      "|5 mal werden Wir ...|\n",
      "|Heißa dann ist We...|\n",
      "+--------------------+\n",
      "\n"
     ]
    }
   ],
   "source": [
    "count.show()\n",
    "#Designentscheidung\n",
    "#Zahlen werden als Wörter drin gelassen"
   ]
  },
  {
   "cell_type": "code",
   "execution_count": 13,
   "id": "a94067ed-fb1a-45e0-b869-c6becb6461b8",
   "metadata": {},
   "outputs": [
    {
     "name": "stdout",
     "output_type": "stream",
     "text": [
      "+------------------------------+\n",
      "|lower                         |\n",
      "+------------------------------+\n",
      "|5 mal werden wir noch wach    |\n",
      "|heißa dann ist weihnachtsnacht|\n",
      "+------------------------------+\n",
      "\n"
     ]
    }
   ],
   "source": [
    "lower=count.select(F.lower(F.col(\"Zeile\")).alias(\"lower\"))\n",
    "lower.show(truncate=False)"
   ]
  },
  {
   "cell_type": "code",
   "execution_count": 40,
   "id": "e4c85d45-7dbd-4c62-a4f1-2cb238307c41",
   "metadata": {},
   "outputs": [
    {
     "name": "stdout",
     "output_type": "stream",
     "text": [
      "+-----------------------------------+\n",
      "|Zeile                              |\n",
      "+-----------------------------------+\n",
      "|[5, mal, werden, wir, noch, wach]  |\n",
      "|[heißa, dann, ist, weihnachtsnacht]|\n",
      "+-----------------------------------+\n",
      "\n"
     ]
    }
   ],
   "source": [
    "splited= lower.select(F.split(lower.lower, \" \").alias(\"Zeile\"))\n",
    "splited.show(truncate=False)"
   ]
  },
  {
   "cell_type": "code",
   "execution_count": 42,
   "id": "31cdbd80-ad7e-4932-994e-b07bbb8feb5a",
   "metadata": {},
   "outputs": [
    {
     "name": "stdout",
     "output_type": "stream",
     "text": [
      "+-----------------------------------+------+\n",
      "|Zeile                              |Anzahl|\n",
      "+-----------------------------------+------+\n",
      "|[5, mal, werden, wir, noch, wach]  |6     |\n",
      "|[heißa, dann, ist, weihnachtsnacht]|4     |\n",
      "+-----------------------------------+------+\n",
      "\n"
     ]
    }
   ],
   "source": [
    "count=splited.withColumn(\"Anzahl\",F.size(F.col(\"Zeile\")))\n",
    "count.show(truncate=False)\n",
    "#jetzt noch die Spalten umdrehen"
   ]
  },
  {
   "cell_type": "code",
   "execution_count": 46,
   "id": "471c3aab-e345-4a1c-a449-5d4a5a5637a0",
   "metadata": {},
   "outputs": [
    {
     "name": "stdout",
     "output_type": "stream",
     "text": [
      "+------+-----------------------------------+\n",
      "|Anzahl|Zeile                              |\n",
      "+------+-----------------------------------+\n",
      "|6     |[5, mal, werden, wir, noch, wach]  |\n",
      "|4     |[heißa, dann, ist, weihnachtsnacht]|\n",
      "+------+-----------------------------------+\n",
      "\n"
     ]
    }
   ],
   "source": [
    "df = count.select(F.col('Anzahl'), F.col('Zeile'))\n",
    "df.show(truncate=False)"
   ]
  },
  {
   "cell_type": "code",
   "execution_count": null,
   "id": "9fedb21f-2cde-4927-8e91-68403158f060",
   "metadata": {},
   "outputs": [],
   "source": []
  }
 ],
 "metadata": {
  "kernelspec": {
   "display_name": "Python 3 (ipykernel)",
   "language": "python",
   "name": "python3"
  },
  "language_info": {
   "codemirror_mode": {
    "name": "ipython",
    "version": 3
   },
   "file_extension": ".py",
   "mimetype": "text/x-python",
   "name": "python",
   "nbconvert_exporter": "python",
   "pygments_lexer": "ipython3",
   "version": "3.10.8"
  }
 },
 "nbformat": 4,
 "nbformat_minor": 5
}

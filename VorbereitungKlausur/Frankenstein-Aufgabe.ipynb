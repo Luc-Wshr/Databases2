{
 "cells": [
  {
   "cell_type": "code",
   "execution_count": 4,
   "id": "667c252a-f497-401c-bd7f-24b6b3727537",
   "metadata": {},
   "outputs": [],
   "source": [
    "# Import SparkSession\n",
    "from pyspark.sql import SparkSession\n",
    "\n",
    "# Create SparkSession \n",
    "spark = SparkSession.builder \\\n",
    "      .master(\"local[1]\") \\\n",
    "      .appName(\"word count\") \\\n",
    "      .getOrCreate() "
   ]
  },
  {
   "cell_type": "code",
   "execution_count": 3,
   "id": "eced4892-7156-42f0-aaff-026e6b323784",
   "metadata": {},
   "outputs": [
    {
     "data": {
      "text/html": [
       "\n",
       "            <div>\n",
       "                <p><b>SparkSession - in-memory</b></p>\n",
       "                \n",
       "        <div>\n",
       "            <p><b>SparkContext</b></p>\n",
       "\n",
       "            <p><a href=\"http://localhost:4040\">Spark UI</a></p>\n",
       "\n",
       "            <dl>\n",
       "              <dt>Version</dt>\n",
       "                <dd><code>v3.3.1</code></dd>\n",
       "              <dt>Master</dt>\n",
       "                <dd><code>local[1]</code></dd>\n",
       "              <dt>AppName</dt>\n",
       "                <dd><code>word count</code></dd>\n",
       "            </dl>\n",
       "        </div>\n",
       "        \n",
       "            </div>\n",
       "        "
      ],
      "text/plain": [
       "<pyspark.sql.session.SparkSession at 0x7f53eb2663e0>"
      ]
     },
     "execution_count": 3,
     "metadata": {},
     "output_type": "execute_result"
    }
   ],
   "source": [
    "spark"
   ]
  },
  {
   "cell_type": "code",
   "execution_count": 6,
   "id": "6274df6f-215e-4223-96bc-805d32857684",
   "metadata": {},
   "outputs": [],
   "source": [
    "inputfile = spark.read.text(\"frankenstein.txt\")"
   ]
  },
  {
   "cell_type": "code",
   "execution_count": 9,
   "id": "aadfdae7-91e8-49ac-9ef5-bbca173a9546",
   "metadata": {},
   "outputs": [
    {
     "name": "stdout",
     "output_type": "stream",
     "text": [
      "+-------------------------------------------------------------------------+\n",
      "|value                                                                    |\n",
      "+-------------------------------------------------------------------------+\n",
      "|                                                                         |\n",
      "|Project Gutenberg's Frankenstein, by Mary Wollstonecraft (Godwin) Shelley|\n",
      "|                                                                         |\n",
      "|This eBook is for the use of anyone anywhere at no cost and with         |\n",
      "|almost no restrictions whatsoever.  You may copy it, give it away or     |\n",
      "|re-use it under the terms of the Project Gutenberg License included      |\n",
      "|with this eBook or online at www.gutenberg.net                           |\n",
      "|                                                                         |\n",
      "|                                                                         |\n",
      "|Title: Frankenstein                                                      |\n",
      "|       or The Modern Prometheus                                          |\n",
      "|                                                                         |\n",
      "|Author: Mary Wollstonecraft (Godwin) Shelley                             |\n",
      "|                                                                         |\n",
      "|Release Date: June 17, 2008 [EBook #84]                                  |\n",
      "|Last updated: January 13, 2018                                           |\n",
      "|                                                                         |\n",
      "|Language: English                                                        |\n",
      "|                                                                         |\n",
      "|Character set encoding: UTF-8                                            |\n",
      "+-------------------------------------------------------------------------+\n",
      "only showing top 20 rows\n",
      "\n"
     ]
    }
   ],
   "source": [
    "inputfile.show(truncate=False)"
   ]
  },
  {
   "cell_type": "code",
   "execution_count": 13,
   "id": "5afd10f2-d1b1-4596-b44a-9669373a05ff",
   "metadata": {},
   "outputs": [
    {
     "name": "stdout",
     "output_type": "stream",
     "text": [
      "root\n",
      " |-- value: string (nullable = true)\n",
      "\n"
     ]
    }
   ],
   "source": [
    "inputfile.printSchema()"
   ]
  },
  {
   "cell_type": "code",
   "execution_count": 20,
   "id": "7bd2461c-267a-4849-be85-8948e9d5f833",
   "metadata": {},
   "outputs": [
    {
     "name": "stdout",
     "output_type": "stream",
     "text": [
      "+--------------------------------------------------------------------------------------+\n",
      "|Zeile                                                                                 |\n",
      "+--------------------------------------------------------------------------------------+\n",
      "|[]                                                                                    |\n",
      "|[Project, Gutenberg, s, Frankenstein, , by, Mary, Wollstonecraft, , Godwin, , Shelley]|\n",
      "|[]                                                                                    |\n",
      "|[This, eBook, is, for, the, use, of, anyone, anywhere, at, no, cost, and, with]       |\n",
      "|[almost, no, restrictions, whatsoever, , , You, may, copy, it, , give, it, away, or]  |\n",
      "|[re, use, it, under, the, terms, of, the, Project, Gutenberg, License, included]      |\n",
      "|[with, this, eBook, or, online, at, www, gutenberg, net]                              |\n",
      "|[]                                                                                    |\n",
      "|[]                                                                                    |\n",
      "|[Title, , Frankenstein]                                                               |\n",
      "|[, , , , , , , or, The, Modern, Prometheus]                                           |\n",
      "|[]                                                                                    |\n",
      "|[Author, , Mary, Wollstonecraft, , Godwin, , Shelley]                                 |\n",
      "|[]                                                                                    |\n",
      "|[Release, Date, , June, , , , , , , , , , , EBook, , , , , ]                          |\n",
      "|[Last, updated, , January, , , , , , , , , ]                                          |\n",
      "|[]                                                                                    |\n",
      "|[Language, , English]                                                                 |\n",
      "|[]                                                                                    |\n",
      "|[Character, set, encoding, , UTF, , ]                                                 |\n",
      "+--------------------------------------------------------------------------------------+\n",
      "only showing top 20 rows\n",
      "\n"
     ]
    }
   ],
   "source": [
    "# Wir splitten jetzt alle Wörter die mit Buchstaben anfangen in einzelne Werte\n",
    "import pyspark.sql.functions as F\n",
    "from pyspark.sql.functions import split, explode, col\n",
    "lines = inputfile.select(F.split(inputfile.value,\"[^a-zA-Z]\").alias(\"Zeile\"))\n",
    "lines.show(truncate=False)"
   ]
  },
  {
   "cell_type": "code",
   "execution_count": 24,
   "id": "6f084e04-9f3d-4d86-81ad-a8a915c0f06f",
   "metadata": {},
   "outputs": [
    {
     "name": "stdout",
     "output_type": "stream",
     "text": [
      "+--------------+\n",
      "|word          |\n",
      "+--------------+\n",
      "|              |\n",
      "|Project       |\n",
      "|Gutenberg     |\n",
      "|s             |\n",
      "|Frankenstein  |\n",
      "|              |\n",
      "|by            |\n",
      "|Mary          |\n",
      "|Wollstonecraft|\n",
      "|              |\n",
      "|Godwin        |\n",
      "|              |\n",
      "|Shelley       |\n",
      "|              |\n",
      "|This          |\n",
      "|eBook         |\n",
      "|is            |\n",
      "|for           |\n",
      "|the           |\n",
      "|use           |\n",
      "+--------------+\n",
      "only showing top 20 rows\n",
      "\n"
     ]
    }
   ],
   "source": [
    "# Um aus den einzelnen Arrays wieder eine Tabelle an Wörtern zu erstellen, exploden wir diese Zeile dann\n",
    "\n",
    "explodedlines = lines.select(F.explode(F.col(\"Zeile\")).alias(\"word\"))\n",
    "explodedlines.show(truncate=False)"
   ]
  },
  {
   "cell_type": "code",
   "execution_count": 28,
   "id": "ab12c047-7ae9-4597-9973-48fa3ef1e861",
   "metadata": {},
   "outputs": [
    {
     "name": "stdout",
     "output_type": "stream",
     "text": [
      "+--------------+\n",
      "|word_lower    |\n",
      "+--------------+\n",
      "|              |\n",
      "|project       |\n",
      "|gutenberg     |\n",
      "|s             |\n",
      "|frankenstein  |\n",
      "|              |\n",
      "|by            |\n",
      "|mary          |\n",
      "|wollstonecraft|\n",
      "|              |\n",
      "|godwin        |\n",
      "|              |\n",
      "|shelley       |\n",
      "|              |\n",
      "|this          |\n",
      "|ebook         |\n",
      "|is            |\n",
      "|for           |\n",
      "|the           |\n",
      "|use           |\n",
      "+--------------+\n",
      "only showing top 20 rows\n",
      "\n"
     ]
    }
   ],
   "source": [
    "# alles zu lower case\n",
    "from pyspark.sql.functions import lower\n",
    "words_lower = explodedlines.select(lower(col(\"word\")).alias(\"word_lower\"))\n",
    "words_lower.show(truncate = False)"
   ]
  },
  {
   "cell_type": "code",
   "execution_count": 29,
   "id": "e3025441-6397-44c1-b8bf-77cb21a7c8a4",
   "metadata": {},
   "outputs": [
    {
     "name": "stdout",
     "output_type": "stream",
     "text": [
      "+--------------+\n",
      "|    echtesWort|\n",
      "+--------------+\n",
      "|              |\n",
      "|       project|\n",
      "|     gutenberg|\n",
      "|              |\n",
      "|  frankenstein|\n",
      "|              |\n",
      "|            by|\n",
      "|          mary|\n",
      "|wollstonecraft|\n",
      "|              |\n",
      "|        godwin|\n",
      "|              |\n",
      "|       shelley|\n",
      "|              |\n",
      "|          this|\n",
      "|         ebook|\n",
      "|            is|\n",
      "|           for|\n",
      "|           the|\n",
      "|           use|\n",
      "+--------------+\n",
      "only showing top 20 rows\n",
      "\n"
     ]
    }
   ],
   "source": [
    "# weg mit den kurzen Zeilen bitte\n",
    "from pyspark.sql.functions import regexp_extract\n",
    "# minimum laenge 2 Zeichen ausser dem Wort \"a\" und \"I\"\n",
    "words_clean = words_lower.select(regexp_extract(col(\"word_lower\"), \"[a-z]{2,}|a|i\", 0).alias(\"echtesWort\"))\n",
    "words_clean.show()"
   ]
  },
  {
   "cell_type": "code",
   "execution_count": 30,
   "id": "0deddc8e-e602-4dee-9fa7-0f7af897d9b3",
   "metadata": {},
   "outputs": [
    {
     "name": "stdout",
     "output_type": "stream",
     "text": [
      "+--------------+\n",
      "|    echtesWort|\n",
      "+--------------+\n",
      "|       project|\n",
      "|     gutenberg|\n",
      "|  frankenstein|\n",
      "|            by|\n",
      "|          mary|\n",
      "|wollstonecraft|\n",
      "|        godwin|\n",
      "|       shelley|\n",
      "|          this|\n",
      "|         ebook|\n",
      "|            is|\n",
      "|           for|\n",
      "|           the|\n",
      "|           use|\n",
      "|            of|\n",
      "|        anyone|\n",
      "|      anywhere|\n",
      "|            at|\n",
      "|            no|\n",
      "|          cost|\n",
      "+--------------+\n",
      "only showing top 20 rows\n",
      "\n"
     ]
    }
   ],
   "source": [
    "# weg mit den leeren Zeilen bitte\n",
    "proper_words = words_clean.filter(col(\"echtesWort\") != \"\")\n",
    "proper_words.show()"
   ]
  },
  {
   "cell_type": "code",
   "execution_count": null,
   "id": "b4e25321-1611-4260-8f3c-ef5cba26128c",
   "metadata": {},
   "outputs": [],
   "source": [
    "# Antwort\n",
    "from pyspark.sql.functions import length\n",
    "min3Zeichen = words_nonull.where(length(col(\"word\")) > 3)"
   ]
  }
 ],
 "metadata": {
  "kernelspec": {
   "display_name": "Python 3 (ipykernel)",
   "language": "python",
   "name": "python3"
  },
  "language_info": {
   "codemirror_mode": {
    "name": "ipython",
    "version": 3
   },
   "file_extension": ".py",
   "mimetype": "text/x-python",
   "name": "python",
   "nbconvert_exporter": "python",
   "pygments_lexer": "ipython3",
   "version": "3.10.8"
  }
 },
 "nbformat": 4,
 "nbformat_minor": 5
}

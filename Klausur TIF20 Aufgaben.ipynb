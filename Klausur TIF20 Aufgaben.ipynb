{
 "cells": [
  {
   "cell_type": "markdown",
   "id": "41064b1f",
   "metadata": {},
   "source": [
    "Aufgabe 1: [15/120 Punkte] Nenne 5 **verschiedene** Anwendungen wo Key-Value-Datenbanken Vorteile gegenüber Relationalen Datenbanken haben, und beschreibe spezifisch (aber dennoch stichwortartig) für jeden Fall, was genau der jeweilige Vorteil ist (und: was potentielle Nachteile sind)"
   ]
  },
  {
   "cell_type": "markdown",
   "id": "c86ff6c2-b3d6-4697-a685-9a8e84e02395",
   "metadata": {},
   "source": [
    "1. Online Warenkörbe wie bei Amazon. Da Key-Value Datenbanken schnelle kurze Abfragen machen können und relationale Datenbanken mit Joins arbeiten müssten welche teuer sind\n",
    "2. Anwendungen bei welchen keine häufigen Updates gemacht werden müssen, da diese bei relationalen Datenbanken teuer sind und bei key-value datenbank schnell durchgeführt werden\n",
    "3. Beim Caching sind Key-Value Datenbanken besser geignet als Relationale Datenbanken, da es hier um schnelle kurze Abfragen geht\n",
    "4. Beim Gaming sind Key-Value Datenbanken besser geignet, da die notwendigen Daten schnell und in realtime verarbeitet werden können\n",
    "5. In Social Media Systeme sind Key-Value Datenbanken besser geigenet, da diese schnelle Transaktionen durchführen können"
   ]
  },
  {
   "cell_type": "markdown",
   "id": "fa609eeb",
   "metadata": {},
   "source": [
    "Aufgabe 2: [15/120 Punkte] erkläre was denn nun wirklich die Hauptunterschiede zwischen einem Data Warehouse und einem Data Lake sind und gib Beispiele für Anwendungen in denen entweder ein Data Warehouse oder ein Data Lake die bessere Wahl ist"
   ]
  },
  {
   "cell_type": "code",
   "execution_count": null,
   "id": "da6c6100-7792-47c9-a97f-c21c19374004",
   "metadata": {},
   "outputs": [],
   "source": [
    "In einem Data Lake können strukturierte und unstrukturierte Daten gespeichert werden und in einem Data Warehouse nur strukturierte Daten\n",
    "Bei einem Data Warehouse ist schon klar wofür die Daten verwendet werden und bei einem Data Lake noch nicht (diese werden dort einfach gesammelt)\n",
    "Beim Data Warehouse sind die Struktur und Schema der Daten vorgegeben\n",
    "Ein Data Lake kann die bestehendes Lagecy System optimieren und effizienter machen\n",
    "\n",
    "Anwendung für Data Warehouse:\n",
    "    Analysesysteme um Daten zu Analysiern\n",
    "    Systeme zur Verwaltung von kundendaten\n",
    "    Marketingsysteme\n",
    "    Erstellung von Berichten\n",
    "Anwendung für Data Lake:\n",
    "    Transaktionssyseme\n",
    "    Big Data Analyse Systeme\n",
    "    Supplychain Optimierungssysteme\n",
    "    Speichern von Daten aus verschiednene Quellen"
   ]
  },
  {
   "cell_type": "markdown",
   "id": "2c9a4491",
   "metadata": {},
   "source": [
    "Aufgabe 3: [15/120 Punkte] im folgenden Code hat sich der Fehlerteufel eingeschlichen. Finde die 5 Fehler (10 Punkte), und beschreibe stichwortartig, was der Code denn tun würde, wenn keine Fehler drin wären. (5 Punkte)"
   ]
  },
  {
   "cell_type": "code",
   "execution_count": null,
   "id": "6334810e",
   "metadata": {},
   "outputs": [],
   "source": [
    "from bson.son import SON\n",
    "client = MongoClient(\"localhost\", 27017)\n",
    "connect = client[\"database\"],[\"collection\"]\n",
    "\n",
    "pipe2 = [ { '$mismatch' : { 'origin' : 'ATL',\n",
    "                         'dest' : 'BOS',\n",
    "                         'dayofweek' : 3\n",
    "                       }\n",
    "          },\n",
    "          { '$group' : { '_id' : { 'origin' : '$origin',\n",
    "                                   'destination' : '$dest'\n",
    "                                 },\n",
    "                         'Failure' : { '$sum' : { '$cond' : [{ '$eq' : ['$cancelled', 1]}, 1, 0 ]} },\n",
    "                         'Success' : { '$sum' : { '$cond' : [{ '$eq' : ['$cancelled', 0]}, 1, 0 ]} },\n",
    "                         'Total' : { '$sum' : 1 }\n",
    "                        }\n",
    "           },\n",
    "           { '$project' : { 'Failure' : 1,\n",
    "                            'Success' : 1,\n",
    "                            'Total' : 1,\n",
    "                            'FailPercent' : { '$divide' : [ '$Failure', '$Total' ] }\n",
    "                          }\n",
    "           },\n",
    "           # im SON-Statement ist kein Fehler, das gehoert so \n",
    "           { '$sort' : SON([('_id.origin', 1), ('_id.destination', 1 )]) }\n",
    "         \n",
    "\n",
    "result = connection.aggregate(pipeline=pipe2)\n",
    "print(result)"
   ]
  },
  {
   "cell_type": "markdown",
   "id": "8ec3b7f6-f68a-42f7-90f3-11341b2ca224",
   "metadata": {},
   "source": [
    "In der Zeile \"client = MongoClient(\"localhost\", 27017)\" :In der obersten Zeile wurde vergessen den Mongoclient zu importieren, so kann kein MongoClient erzeugt werden\n",
    "Was der Code tun würde:\n",
    "Es wird versucht einen Mongoclient mit der Verbindung auf den localhost und den Port 27017 herzustellen\n",
    "\n",
    "In der Zeile \"connect = client[\"database\"],[\"collection\"]\": Man muss dem clienten die collection separat mitteilen und nicht in einem Aufruf\n",
    "Was der Code tun würde:   \n",
    "Es wird versucht dem Mongoclient die Datenbank und die Collection anzugeben, welche der Client im weiteren Verlauf nutzen soll\n",
    "\n",
    "In der Zeile \"pipe2 = [ { '$mismatch' : { 'origin' : 'ATL',\": Es gibt keine Funktion welche mismatch heißt, wollte wahrschein $match verwenden\n",
    "Was der Code tun würde:\n",
    "Die Aggregation würde versuchen alle Werte zu finden, auf welche der angegebene Ausdruck nicht zutrifft\n",
    "\n",
    "In der Zeile \"{ '$sort' : SON([('_id.origin', 1), ('_id.destination', 1 )]) }\": Die eckige Klammer von pipe2 wird fehlt\n",
    "Was der Code tun würde:\n",
    "Versuchen die Aggregation durchzuführen\n",
    "\n",
    "In der Zeile \"result = connection.aggregate(pipeline=pipe2)\": Es muss connect.aggregate heißen, hier ist der variablen name falsch\n",
    "Was der Code tun würde:\n",
    "Das Ergebnis der Aggregation würde in die Variable result geschrieben werden"
   ]
  },
  {
   "cell_type": "markdown",
   "id": "9ae06e21",
   "metadata": {},
   "source": [
    "Aufgabe 4: [15/120 Punkte] Erkläre was lazy evaluation ist an Hand von 2 in den Vorlesungen behandelten Technologien/Ansätzen (1 Lazy, eine nicht lazy) - und erläutere, was die Auswirkungen in der Praxis sind."
   ]
  },
  {
   "cell_type": "code",
   "execution_count": null,
   "id": "ed7ee7e7-fdcb-4186-901e-b2b0813812fe",
   "metadata": {},
   "outputs": [],
   "source": [
    "Lazy Evaluation ist eine Technik, bei der die Auswertung eines Ausdrucks so lange nicht aufgeführt wird, bis diese dann benötigt wird.\n",
    "Dies kann nützlich sein, um die Leistung eines Programms zu optimieren, indem unnötige Berechnungen vermieden werden, und um die Erstellung \n",
    "von unendlichen Datenstrukturen zu ermöglichen.\n",
    "\n",
    "Spark ist lazy und MongoDB, in Spark werden alle Daten erst dann geladen,gesucht wenn es benötigt wird und in Mongo wird alles durchsucht\n",
    "\n",
    "Layz evaluation kann die performance verbessern und den Speicherbedarf reduzieren \n",
    "Ebenso kann dadurch die Fehlerbehandlung einfacher durchgeführt werden\n",
    "Es kann eine flexiblere Datenstruktur herstellen "
   ]
  },
  {
   "cell_type": "markdown",
   "id": "e322834c",
   "metadata": {},
   "source": [
    "Aufgabe 5: [40/120 Punkte]\n",
    "    In Moodle findest Du Super-Markt Daten. Werte diese in Spark aus, und finde heraus:\n",
    "    \n",
    "    1) wie viele Einkäufe wurden von Frauen, bzw von Männern getätigt?\n",
    "    2) wie viel Umsatz wurde an den 3 Standorten jeweils getätigt - gib diesen zusammen mit dem NAMEN des jeweiligen Standorts aus\n",
    "    3) welche Bezahlart die höchste durchschnittliche User-Satisfaction hat\n",
    "    \n",
    "Exportiere die Ergebnisse von Teilaufgabe 3 als CSV-Datei - stelle dabei sicher, dass unabhängig von der Größe des Datensatzes nur 1 einzige CSV-Datei generiert wird.\n",
    "\n",
    "Beschreibe für jede der Teilaufgaben wie Du die Daten dazu aufbereiten würdest (Stichwort: Designentscheidungen)  "
   ]
  },
  {
   "cell_type": "markdown",
   "id": "79a1dbfc-cf70-45db-9d7b-5ec0cd60bbd1",
   "metadata": {},
   "source": [
    "Aus Zeitgründen sind nicht Codeangaben funktionstüchtig"
   ]
  },
  {
   "cell_type": "code",
   "execution_count": 3,
   "id": "41846490-ac65-4c22-b2a0-6f34e890cd1d",
   "metadata": {},
   "outputs": [
    {
     "name": "stderr",
     "output_type": "stream",
     "text": [
      "Setting default log level to \"WARN\".\n",
      "To adjust logging level use sc.setLogLevel(newLevel). For SparkR, use setLogLevel(newLevel).\n"
     ]
    },
    {
     "name": "stdout",
     "output_type": "stream",
     "text": [
      "22/12/21 10:31:20 WARN NativeCodeLoader: Unable to load native-hadoop library for your platform... using builtin-java classes where applicable\n"
     ]
    }
   ],
   "source": [
    "# Herstellung einer Spark Verbindung\n",
    "from pyspark.sql import SparkSession\n",
    "\n",
    "spark = SparkSession.builder \\\n",
    "      .master(\"local[1]\") \\\n",
    "      .appName(\"SupermarkDaten\") \\\n",
    "      .getOrCreate() "
   ]
  },
  {
   "cell_type": "code",
   "execution_count": 4,
   "id": "31ea9b5b-4cbe-4c95-9901-0f0e79186bb3",
   "metadata": {},
   "outputs": [
    {
     "data": {
      "text/html": [
       "\n",
       "            <div>\n",
       "                <p><b>SparkSession - in-memory</b></p>\n",
       "                \n",
       "        <div>\n",
       "            <p><b>SparkContext</b></p>\n",
       "\n",
       "            <p><a href=\"http://localhost:4040\">Spark UI</a></p>\n",
       "\n",
       "            <dl>\n",
       "              <dt>Version</dt>\n",
       "                <dd><code>v3.3.1</code></dd>\n",
       "              <dt>Master</dt>\n",
       "                <dd><code>local[1]</code></dd>\n",
       "              <dt>AppName</dt>\n",
       "                <dd><code>SupermarkDaten</code></dd>\n",
       "            </dl>\n",
       "        </div>\n",
       "        \n",
       "            </div>\n",
       "        "
      ],
      "text/plain": [
       "<pyspark.sql.session.SparkSession at 0x7fc7981bc7f0>"
      ]
     },
     "execution_count": 4,
     "metadata": {},
     "output_type": "execute_result"
    }
   ],
   "source": [
    "spark"
   ]
  },
  {
   "cell_type": "code",
   "execution_count": 17,
   "id": "ee72b7f9-fdd7-4d6b-bdcc-1e3606f2cf5d",
   "metadata": {},
   "outputs": [
    {
     "name": "stdout",
     "output_type": "stream",
     "text": [
      "+-----------+------+---------+-------------+------+----------------------+----------+--------+-------+--------+---------+-----+-----------+------+-----------------------+------------+------+\n",
      "|Invoice ID |Branch|City     |Customer type|Gender|Product line          |Unit price|Quantity|Tax 5% |Total   |Date     |Time |Payment    |cogs  |gross margin percentage|gross income|Rating|\n",
      "+-----------+------+---------+-------------+------+----------------------+----------+--------+-------+--------+---------+-----+-----------+------+-----------------------+------------+------+\n",
      "|750-67-8428|A     |Yangon   |Member       |Female|Health and beauty     |74.69     |7       |26.1415|548.9715|1/5/2019 |13:08|Ewallet    |522.83|4.761904762            |26.1415     |9.1   |\n",
      "|226-31-3081|C     |Naypyitaw|Normal       |f     |Electronic accessories|15.28     |5       |3.82   |80.22   |3/8/2019 |10:29|Cash       |76.4  |4.761904762            |3.82        |9.6   |\n",
      "|631-41-3108|A     |null     |Normal       |Male  |Home and lifestyle    |46.33     |7       |16.2155|340.5255|3/3/2019 |13:23|credit card|324.31|4.761904762            |16.2155     |7.4   |\n",
      "|123-19-1176|A     |Yangon   |Member       |male  |Health and beauty     |58.22     |8       |23288  |489048  |1/27/2019|20:33|Ewallet    |465.76|4.761904762            |23288       |8.4   |\n",
      "|373-73-7910|A     |Yangon   |Normal       |Male  |Sports and travel     |86.31     |7       |30.2085|634.3785|2/8/2019 |10:37|ewallet    |604.17|4.761904762            |30.2085     |5.3   |\n",
      "|699-14-3026|C     |Naypyitaw|Normal       |Male  |Electronic accessories|85.39     |7       |29.8865|627.6165|3/25/2019|18:30|Ewallet    |597.73|4.761904762            |29.8865     |4.1   |\n",
      "|355-53-5943|A     |Yangon   |Member       |f     |Electronic accessories|68.84     |6       |20652  |433692  |2/25/2019|14:36|Ewallet    |413.04|4.761904762            |20652       |5.8   |\n",
      "|315-22-5665|C     |null     |Normal       |Female|Home and lifestyle    |73.56     |10      |36.78  |772.38  |2/24/2019|11:38|Ewallet    |735.6 |4.761904762            |36.78       |8     |\n",
      "|665-32-9167|A     |Yangon   |Member       |f     |Health and beauty     |36.26     |2       |3626   |76146   |1/10/2019|17:15|Creditcard |72.52 |4.761904762            |3626        |7.2   |\n",
      "|692-92-5582|B     |Mandalay |Member       |Female|Food and beverages    |54.84     |3       |8226   |172746  |2/20/2019|13:27|creditcard |164.52|4.761904762            |8226        |5.9   |\n",
      "|351-62-0822|B     |Mandalay |Member       |Female|Fashion accessories   |14.48     |4       |2896   |60816   |2/6/2019 |18:07|Ewallet    |57.92 |4.761904762            |2896        |4.5   |\n",
      "|529-56-3974|B     |null     |Member       |m     |Electronic accessories|25.51     |4       |5102   |107142  |3/9/2019 |17:03|cash       |102.04|4.761904762            |5102        |6.8   |\n",
      "|365-64-0515|A     |Yangon   |Normal       |Female|Electronic accessories|46.95     |5       |11.7375|246.4875|2/12/2019|10:25|Ewallet    |234.75|4.761904762            |11.7375     |7.1   |\n",
      "|252-56-2699|A     |null     |Normal       |m     |Food and beverages    |43.19     |10      |21595  |453495  |2/7/2019 |16:48|Ewallet    |431.9 |4.761904762            |21595       |8.2   |\n",
      "|829-34-3910|A     |Yangon   |Normal       |Female|Health and beauty     |71.38     |10      |35.69  |749.49  |3/29/2019|19:21|Cash       |713.8 |4.761904762            |35.69       |5.7   |\n",
      "|299-46-1805|B     |Mandalay |Member       |Female|Sports and travel     |93.72     |6       |28116  |590436  |1/15/2019|16:19|cash       |562.32|4.761904762            |28116       |4.5   |\n",
      "|656-95-9349|A     |Yangon   |Member       |Female|Health and beauty     |68.93     |7       |24.1255|506.6355|3/11/2019|11:03|Creditcard |482.51|4.761904762            |24.1255     |4.6   |\n",
      "|765-26-6951|A     |null     |Normal       |Male  |Sports and travel     |72.61     |6       |21783  |457443  |1/1/2019 |10:39|Credit card|435.66|4.761904762            |21783       |6.9   |\n",
      "|329-62-1586|A     |Yangon   |Normal       |m     |Food and beverages    |54.67     |3       |8.2005 |172.2105|1/21/2019|18:00|Creditcard |164.01|4.761904762            |8.2005      |8.6   |\n",
      "|319-50-3348|B     |Mandalay |Normal       |female|Home and lifestyle    |40.3      |2       |4.03   |84.63   |3/11/2019|15:30|Ewallet    |80.6  |4.761904762            |4.03        |4.4   |\n",
      "+-----------+------+---------+-------------+------+----------------------+----------+--------+-------+--------+---------+-----+-----------+------+-----------------------+------------+------+\n",
      "only showing top 20 rows\n",
      "\n"
     ]
    }
   ],
   "source": [
    "#Einlesen der Daten und anzeigen\n",
    "# Da die Daten falsch abgespeichert wurden, wurden die Daten in Libreoffice geöffnet und als CSV Datei abgespeichert, diese wird jetzt weiter verwendet\n",
    "supermarktdata = spark.read.csv(\"../Downloads/supermarket_sales.csv\", header=True)\n",
    "supermarktdata.show(truncate=False)"
   ]
  },
  {
   "cell_type": "code",
   "execution_count": 18,
   "id": "7f9ee71a-5b5b-4250-945d-6c1130fa46eb",
   "metadata": {},
   "outputs": [
    {
     "name": "stdout",
     "output_type": "stream",
     "text": [
      "root\n",
      " |-- Invoice ID: string (nullable = true)\n",
      " |-- Branch: string (nullable = true)\n",
      " |-- City: string (nullable = true)\n",
      " |-- Customer type: string (nullable = true)\n",
      " |-- Gender: string (nullable = true)\n",
      " |-- Product line: string (nullable = true)\n",
      " |-- Unit price: string (nullable = true)\n",
      " |-- Quantity: string (nullable = true)\n",
      " |-- Tax 5%: string (nullable = true)\n",
      " |-- Total: string (nullable = true)\n",
      " |-- Date: string (nullable = true)\n",
      " |-- Time: string (nullable = true)\n",
      " |-- Payment: string (nullable = true)\n",
      " |-- cogs: string (nullable = true)\n",
      " |-- gross margin percentage: string (nullable = true)\n",
      " |-- gross income: string (nullable = true)\n",
      " |-- Rating: string (nullable = true)\n",
      "\n"
     ]
    }
   ],
   "source": [
    "# Anzeigen der Datentypen\n",
    "supermarktdata.printSchema()"
   ]
  },
  {
   "cell_type": "code",
   "execution_count": 47,
   "id": "70c90707-b156-4127-a7a3-20febac52621",
   "metadata": {},
   "outputs": [
    {
     "name": "stdout",
     "output_type": "stream",
     "text": [
      "+-----------+------+---------+-------------+------+--------------------+----------+--------+-------+--------+---------+-----+-----------+------+-----------------------+------------+------+\n",
      "| Invoice ID|Branch|     City|Customer type|Gender|        Product line|Unit price|Quantity| Tax 5%|   Total|     Date| Time|    Payment|  cogs|gross margin percentage|gross income|Rating|\n",
      "+-----------+------+---------+-------------+------+--------------------+----------+--------+-------+--------+---------+-----+-----------+------+-----------------------+------------+------+\n",
      "|750-67-8428|     A|   Yangon|       Member|     f|   Health and beauty|     74.69|       7|26.1415|548.9715| 1/5/2019|13:08|    Ewallet|522.83|            4.761904762|     26.1415|   9.1|\n",
      "|226-31-3081|     C|Naypyitaw|       Normal|     f|Electronic access...|     15.28|       5|   3.82|   80.22| 3/8/2019|10:29|       Cash|  76.4|            4.761904762|        3.82|   9.6|\n",
      "|631-41-3108|     A|     null|       Normal|     m|  Home and lifestyle|     46.33|       7|16.2155|340.5255| 3/3/2019|13:23|credit card|324.31|            4.761904762|     16.2155|   7.4|\n",
      "|123-19-1176|     A|   Yangon|       Member|     m|   Health and beauty|     58.22|       8|  23288|  489048|1/27/2019|20:33|    Ewallet|465.76|            4.761904762|       23288|   8.4|\n",
      "|373-73-7910|     A|   Yangon|       Normal|     m|   Sports and travel|     86.31|       7|30.2085|634.3785| 2/8/2019|10:37|    ewallet|604.17|            4.761904762|     30.2085|   5.3|\n",
      "|699-14-3026|     C|Naypyitaw|       Normal|     m|Electronic access...|     85.39|       7|29.8865|627.6165|3/25/2019|18:30|    Ewallet|597.73|            4.761904762|     29.8865|   4.1|\n",
      "|355-53-5943|     A|   Yangon|       Member|     f|Electronic access...|     68.84|       6|  20652|  433692|2/25/2019|14:36|    Ewallet|413.04|            4.761904762|       20652|   5.8|\n",
      "|315-22-5665|     C|     null|       Normal|     f|  Home and lifestyle|     73.56|      10|  36.78|  772.38|2/24/2019|11:38|    Ewallet| 735.6|            4.761904762|       36.78|     8|\n",
      "|665-32-9167|     A|   Yangon|       Member|     f|   Health and beauty|     36.26|       2|   3626|   76146|1/10/2019|17:15| Creditcard| 72.52|            4.761904762|        3626|   7.2|\n",
      "|692-92-5582|     B| Mandalay|       Member|     f|  Food and beverages|     54.84|       3|   8226|  172746|2/20/2019|13:27| creditcard|164.52|            4.761904762|        8226|   5.9|\n",
      "|351-62-0822|     B| Mandalay|       Member|     f| Fashion accessories|     14.48|       4|   2896|   60816| 2/6/2019|18:07|    Ewallet| 57.92|            4.761904762|        2896|   4.5|\n",
      "|529-56-3974|     B|     null|       Member|     m|Electronic access...|     25.51|       4|   5102|  107142| 3/9/2019|17:03|       cash|102.04|            4.761904762|        5102|   6.8|\n",
      "|365-64-0515|     A|   Yangon|       Normal|     f|Electronic access...|     46.95|       5|11.7375|246.4875|2/12/2019|10:25|    Ewallet|234.75|            4.761904762|     11.7375|   7.1|\n",
      "|252-56-2699|     A|     null|       Normal|     m|  Food and beverages|     43.19|      10|  21595|  453495| 2/7/2019|16:48|    Ewallet| 431.9|            4.761904762|       21595|   8.2|\n",
      "|829-34-3910|     A|   Yangon|       Normal|     f|   Health and beauty|     71.38|      10|  35.69|  749.49|3/29/2019|19:21|       Cash| 713.8|            4.761904762|       35.69|   5.7|\n",
      "|299-46-1805|     B| Mandalay|       Member|     f|   Sports and travel|     93.72|       6|  28116|  590436|1/15/2019|16:19|       cash|562.32|            4.761904762|       28116|   4.5|\n",
      "|656-95-9349|     A|   Yangon|       Member|     f|   Health and beauty|     68.93|       7|24.1255|506.6355|3/11/2019|11:03| Creditcard|482.51|            4.761904762|     24.1255|   4.6|\n",
      "|765-26-6951|     A|     null|       Normal|     m|   Sports and travel|     72.61|       6|  21783|  457443| 1/1/2019|10:39|Credit card|435.66|            4.761904762|       21783|   6.9|\n",
      "|329-62-1586|     A|   Yangon|       Normal|     m|  Food and beverages|     54.67|       3| 8.2005|172.2105|1/21/2019|18:00| Creditcard|164.01|            4.761904762|      8.2005|   8.6|\n",
      "|319-50-3348|     B| Mandalay|       Normal|     f|  Home and lifestyle|      40.3|       2|   4.03|   84.63|3/11/2019|15:30|    Ewallet|  80.6|            4.761904762|        4.03|   4.4|\n",
      "+-----------+------+---------+-------------+------+--------------------+----------+--------+-------+--------+---------+-----+-----------+------+-----------------------+------------+------+\n",
      "only showing top 20 rows\n",
      "\n"
     ]
    }
   ],
   "source": [
    "# Hier wurde die Gender Spalte so angepasst, dass nur noch m und f als gender angegeben werden\n",
    "\n",
    "updategender1 = supermarktdata.withColumn(\"Gender\", F.regexp_replace(F.col(\"Gender\"), \"male\", \"m\"))\n",
    "updategender2 = updategender1.withColumn(\"Gender\", F.regexp_replace(F.col(\"Gender\"), \"Male\", \"m\"))\n",
    "updategender3 = updategender2.withColumn(\"Gender\", F.regexp_replace(F.col(\"Gender\"), \"fem\", \"f\"))\n",
    "updategender4 = updategender3.withColumn(\"Gender\", F.regexp_replace(F.col(\"Gender\"), \"Fem\", \"f\"))\n",
    "updategender4.show()"
   ]
  },
  {
   "cell_type": "code",
   "execution_count": 85,
   "id": "0b69ece0-2c3e-4d8a-973f-f87cd9e60b95",
   "metadata": {},
   "outputs": [
    {
     "name": "stdout",
     "output_type": "stream",
     "text": [
      "+------+-----+\n",
      "|Gender|count|\n",
      "+------+-----+\n",
      "|     m|  141|\n",
      "|     f|  114|\n",
      "+------+-----+\n",
      "\n"
     ]
    }
   ],
   "source": [
    "#Teilaufgabe 1:\n",
    "# Ich würde die Daten so aufbereiten, dass ich mir die Spalte mit den Gendern heraussuche \n",
    "#und dann dann alles in m und f umwandle und dann nachzähle wie oft die Einträge vorkommen\n",
    "\n",
    "malfemale= updategender4.groupBy('Gender').count()\n",
    "malfemale.show()"
   ]
  },
  {
   "cell_type": "code",
   "execution_count": 91,
   "id": "3e5170b1-d3ae-4a31-ac5b-66c0dea165a1",
   "metadata": {},
   "outputs": [
    {
     "name": "stdout",
     "output_type": "stream",
     "text": [
      "+---------+--------+----------+\n",
      "|     City|   Total|sum(Total)|\n",
      "+---------+--------+----------+\n",
      "|Naypyitaw| 1003.59|   1003.59|\n",
      "|   Yangon|  102018|  102018.0|\n",
      "|Naypyitaw|  103824|  103824.0|\n",
      "|   Yangon| 1039.29|   1039.29|\n",
      "|Naypyitaw|  106995|  106995.0|\n",
      "| Mandalay|  107.31|    107.31|\n",
      "|     null|  107142|  107142.0|\n",
      "| Mandalay|  112224|  112224.0|\n",
      "|   Yangon|  115.08|    115.08|\n",
      "| Mandalay|  115185|  115185.0|\n",
      "|Naypyitaw|  117831|  117831.0|\n",
      "|     null|  119259|  119259.0|\n",
      "|Naypyitaw|  120645|  120645.0|\n",
      "|   Yangon|  125517|  125517.0|\n",
      "| Mandalay|130.0425|  130.0425|\n",
      "|Naypyitaw|   13167|   13167.0|\n",
      "|   Yangon|138.1275|  138.1275|\n",
      "| Mandalay|  146223|  146223.0|\n",
      "| Mandalay|  146328|  146328.0|\n",
      "| Mandalay|  152838|  152838.0|\n",
      "+---------+--------+----------+\n",
      "only showing top 20 rows\n",
      "\n"
     ]
    }
   ],
   "source": [
    "# Teilaufgabe 2\n",
    "# Ich würde die Citys Gruppieren und dann anzeigen wie viel umsatz jeweils getätigt wurde indem ich die Spalten Total und City anzeige und das ganze noch sortiert anzeigen\n",
    "\n",
    "updategender4.groupby('City','Total').agg({'Total': 'sum'}).orderBy(\"Total\").show()"
   ]
  },
  {
   "cell_type": "code",
   "execution_count": 81,
   "id": "477afed4-d0bb-42bb-b384-aea21b68fa33",
   "metadata": {},
   "outputs": [
    {
     "name": "stdout",
     "output_type": "stream",
     "text": [
      "+------+-----------+\n",
      "|Rating|    Payment|\n",
      "+------+-----------+\n",
      "|   9.1|    Ewallet|\n",
      "|   9.6|       Cash|\n",
      "|   7.4|credit card|\n",
      "|   8.4|    Ewallet|\n",
      "|   5.3|    ewallet|\n",
      "|   4.1|    Ewallet|\n",
      "|   5.8|    Ewallet|\n",
      "|     8|    Ewallet|\n",
      "|   7.2| Creditcard|\n",
      "|   5.9| creditcard|\n",
      "|   4.5|    Ewallet|\n",
      "|   6.8|       cash|\n",
      "|   7.1|    Ewallet|\n",
      "|   8.2|    Ewallet|\n",
      "|   5.7|       Cash|\n",
      "|   4.5|       cash|\n",
      "|   4.6| Creditcard|\n",
      "|   6.9|Credit card|\n",
      "|   8.6| Creditcard|\n",
      "|   4.4|    Ewallet|\n",
      "+------+-----------+\n",
      "only showing top 20 rows\n",
      "\n",
      "+------+-------+\n",
      "|Rating|Payment|\n",
      "+------+-------+\n",
      "|   9.1|     ew|\n",
      "|   9.6|   cash|\n",
      "|   7.4|     cc|\n",
      "|   8.4|     ew|\n",
      "|   5.3|     ew|\n",
      "|   4.1|     ew|\n",
      "|   5.8|     ew|\n",
      "|     8|     ew|\n",
      "|   7.2|     cc|\n",
      "|   5.9|     cc|\n",
      "|   4.5|     ew|\n",
      "|   6.8|   cash|\n",
      "|   7.1|     ew|\n",
      "|   8.2|     ew|\n",
      "|   5.7|   cash|\n",
      "|   4.5|   cash|\n",
      "|   4.6|     cc|\n",
      "|   6.9|     cc|\n",
      "|   8.6|     cc|\n",
      "|   4.4|     ew|\n",
      "+------+-------+\n",
      "only showing top 20 rows\n",
      "\n",
      "+-------+\n",
      "|Payment|\n",
      "+-------+\n",
      "|     cc|\n",
      "|     ew|\n",
      "|   cash|\n",
      "+-------+\n",
      "\n"
     ]
    }
   ],
   "source": [
    "#Teilaufgabe 3\n",
    "\n",
    "# Hier sollten die Daten noch bereinigt werden, sodass alle Bezahlarten eindeutig aufgelistet werden \n",
    "payment= updategender4.select(\"Rating\",\"Payment\")\n",
    "payment.show()\n",
    "\n",
    "pay = payment.withColumn(\"Payment\", F.regexp_replace(F.col(\"Payment\"), \"Ewallet\", \"ew\"))\n",
    "pay1 = pay.withColumn(\"Payment\", F.regexp_replace(F.col(\"Payment\"), \"Cash\", \"cash\"))\n",
    "pay2 = pay1.withColumn(\"Payment\", F.regexp_replace(F.col(\"Payment\"), \"Credit Card\", \"cc\"))\n",
    "pay3 = pay2.withColumn(\"Payment\", F.regexp_replace(F.col(\"Payment\"), \"Creditcard\", \"cc\"))\n",
    "pay4 = pay3.withColumn(\"Payment\", F.regexp_replace(F.col(\"Payment\"), \"credit Card\", \"cc\"))\n",
    "pay5 = pay4.withColumn(\"Payment\", F.regexp_replace(F.col(\"Payment\"), \"credit card\", \"cc\"))\n",
    "pay6 = pay5.withColumn(\"Payment\", F.regexp_replace(F.col(\"Payment\"), \"ewallet\", \"ew\"))\n",
    "pay7 = pay6.withColumn(\"Payment\", F.regexp_replace(F.col(\"Payment\"), \"ewallet\", \"ew\"))\n",
    "pay8 = pay7.withColumn(\"Payment\", F.regexp_replace(F.col(\"Payment\"), \"creditcard\", \"cc\"))\n",
    "pay9 = pay8.withColumn(\"Payment\", F.regexp_replace(F.col(\"Payment\"), \"Credit card\", \"cc\"))\n",
    "pay9.show()\n",
    "\n",
    "pay9.groupBy(\"Payment\").show()\n",
    "\n",
    "# Dann jeweils die Daten zusammenrechnen und dann durch die Anzahl teilen um den mittelwert zu erhalten\n",
    "# Keine Zeit mehr"
   ]
  },
  {
   "cell_type": "code",
   "execution_count": null,
   "id": "933c2691-55ae-43a7-a266-c04f71216b22",
   "metadata": {},
   "outputs": [],
   "source": [
    "# Teilaufgabe 3\n",
    "# Speichern der Daten als CSV in einer Datei\n",
    "\n",
    "result.coalesce(1).write.option(header=True).csv(\"resultdata.csv\")"
   ]
  },
  {
   "cell_type": "markdown",
   "id": "5335ef0f",
   "metadata": {},
   "source": [
    "Aufgabe 6: [20/60 Punkte] Ein regionales Unternehmen hat ein großes Investment durch eine Venture Capital Firma bekommen, und möchte jetzt international expandieren. \n",
    "\n",
    "Euer Auftrag ist es das Unternehmen zum Thema \"Datenbanken\" (die für die internationale Expansion benötig werden) zu beraten.\n",
    "\n",
    "Das bisherige Hauptprodukt des Unternehmens sind mit Schokolade überzogene Fruchtgummis. Im Zuge der Expansion möchte das Unternehmen aber auch gleichzeitig neue Produkte einführen, bzw an regionale Geschmäcker anpassen. Dadurch, dass die Expansion überall gleichzeitig erfolgen soll, sind am Anfang wenig Möglichkeiten direkt Kundenumfragen zu machen - statt dessen soll die Resonanz auf Marketingcampagnen und die Interaktion mit der jeweiligen Landeswebseite genutzt werden, um lokale \"Geschmäcker\" und damit das Potential für weitere Produkte zu erforschen.\n",
    "\n",
    "Der bisher einzige Vertriebskanal ist eine Online-Präsenz, zumindest anfänglich soll dies auch so bleiben, jedoch mit potentiell separaten Webseiten für verschiedene Länder/Regionen. Hierzu besteht aber noch keine fest definierte Strategie, der Unternehmer würde von Euch auch gerne wissen, was für Möglichkeiten, Vor- und Nachteile, und Risiken verschiedener Ansätze (aus Sicht der Nutzung von Datenbanken) sind.\n",
    "\n",
    "Erläutere **stichwortartig**:\n",
    "\n",
    "1) welche Technologien in welchem Bereich eingesetzt werden, und warum\n",
    "2) was für Strategien, bzw Tools Ihr einsetzen wollt um \n",
    "    - die schon vorhandenen Daten zu migrieren\n",
    "    - neue Daten mit den alten zu verbinden\n",
    "    - benötigte Daten zu erhalten\n",
    "3) welche Strategien sich anbieten für das Reporting, die Datenhaltung, Backups etc.\n",
    "4) was die Auswirkungen verschiedener Expansionsstrategien (z.B. Marketing, Website etc) auf die Nutzung/Nützlichkeit/Performance der Datenbank(en) wäre \n",
    "5) Ob es \"Bottlenecks\" oder mit (hohem) Risiko verbundene Datenbank-Komponenten gibt, und wie man damit in der Praxis umgehen soll\n",
    "\n",
    "(wirklich nur stichwortartig, keine Romane!)"
   ]
  },
  {
   "cell_type": "markdown",
   "id": "369a87ab-31be-41db-a6dc-df38e1ea8c9a",
   "metadata": {},
   "source": [
    "1. Verwendung von Kafka für EventStreaming um Infos einzuholen\n",
    "    Für Webseiten relationale Datenbanken\n",
    "    Docker Einsetzen um physikalische Anbeschaffungen gering zu halten\n",
    "    Umfragen durchführen mit Kafka Subscribern und Publishern, auch mit Redis möglich\n",
    "    Einführung von Data Lakes um alle Informationen zentral zu speichern\n",
    "    Einsatz von Spark für schnelle lese und schreibzugriffe in memory\n",
    "    \n",
    "2. Eine Key-Value Datenbank, zum Beispiel Redis, um Infos aus \n",
    "    den Brokern der Kafka Architektur zu migiren\n",
    "    Einsatz von Brokern um Infos zu sammeln\n",
    "    Einsatz von Kafka Clustern\n",
    "    Redis um daten zu verbinden \n",
    "    \n",
    "3. Verwendung einer Airflow Architketur um regelmäßige backups durchzuführen anhand von tasks und plänen\n",
    "    Reporting mit Kafka publisch und subscribe zum Datensammeln und Austausch\n",
    "\n",
    "4.  Viele Anwendungen wollen auf Datenbank zugreifen\n",
    "    Hohe Nachfrage von verschiednen Anwendungen\n",
    "    Performance wird langsamer\n",
    "    Daten könnten verloren gehen\n",
    "    Datenbank könnte überlastet werden\n",
    "    Viele unterschiedliche Daten werden in datenbank geschrieben, was zu unnötigen Einträgen führen könnte\n",
    "\n",
    "5. Datensicherheit/Datenverlust immer ein großes Thema\n",
    "    Airflow Jobs für regelmäßige Backups einführen"
   ]
  }
 ],
 "metadata": {
  "kernelspec": {
   "display_name": "Python 3 (ipykernel)",
   "language": "python",
   "name": "python3"
  },
  "language_info": {
   "codemirror_mode": {
    "name": "ipython",
    "version": 3
   },
   "file_extension": ".py",
   "mimetype": "text/x-python",
   "name": "python",
   "nbconvert_exporter": "python",
   "pygments_lexer": "ipython3",
   "version": "3.10.8"
  }
 },
 "nbformat": 4,
 "nbformat_minor": 5
}
